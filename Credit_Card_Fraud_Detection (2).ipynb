{
 "cells": [
  {
   "cell_type": "markdown",
   "metadata": {},
   "source": [
    "## Credit Card Fraud Detection"
   ]
  },
  {
   "cell_type": "code",
   "execution_count": 148,
   "metadata": {},
   "outputs": [],
   "source": [
    "#importing important libraries\n",
    "import numpy as np\n",
    "import pandas as pd\n",
    "import matplotlib.pyplot as plt\n",
    "import seaborn as sns\n",
    "import warnings\n",
    "warnings.filterwarnings(\"ignore\")\n",
    "from datetime import datetime, timedelta\n",
    "pd.options.display.float_format='{:.4f}'.format\n",
    "plt.rcParams['figure.figsize'] = [8,8]\n",
    "pd.set_option('display.max_columns', 500)\n",
    "pd.set_option('display.max_colwidth', -1) \n",
    "sns.set(style='darkgrid')\n",
    "import matplotlib.ticker as plticker\n",
    "%matplotlib inline\n",
    "from sklearn.model_selection import train_test_split\n",
    "from sklearn.preprocessing import StandardScaler\n",
    "from sklearn.linear_model import LogisticRegression\n",
    "from sklearn.model_selection import GridSearchCV\n",
    "from sklearn.model_selection import KFold\n",
    "from sklearn.metrics import roc_auc_score\n",
    "from sklearn.tree import DecisionTreeClassifier\n",
    "from sklearn.ensemble import RandomForestClassifier\n",
    "from sklearn.ensemble import AdaBoostClassifier\n",
    "from sklearn import metrics\n",
    "import statsmodels.api as sm\n",
    "import pickle\n",
    "import gc \n",
    "from sklearn import svm\n",
    "from xgboost import XGBClassifier\n",
    "import xgboost as xgb\n",
    "from sklearn.metrics import accuracy_score\n",
    "from sklearn.metrics import roc_curve,roc_auc_score, precision_recall_curve, average_precision_score\n",
    "from sklearn.metrics import classification_report\n",
    "from sklearn.metrics import confusion_matrix\n",
    "from sklearn import preprocessing\n",
    "\n"
   ]
  },
  {
   "cell_type": "markdown",
   "metadata": {},
   "source": [
    "## Reading and Understanding Data"
   ]
  },
  {
   "cell_type": "code",
   "execution_count": 2,
   "metadata": {},
   "outputs": [
    {
     "data": {
      "text/html": [
       "<div>\n",
       "<style scoped>\n",
       "    .dataframe tbody tr th:only-of-type {\n",
       "        vertical-align: middle;\n",
       "    }\n",
       "\n",
       "    .dataframe tbody tr th {\n",
       "        vertical-align: top;\n",
       "    }\n",
       "\n",
       "    .dataframe thead th {\n",
       "        text-align: right;\n",
       "    }\n",
       "</style>\n",
       "<table border=\"1\" class=\"dataframe\">\n",
       "  <thead>\n",
       "    <tr style=\"text-align: right;\">\n",
       "      <th></th>\n",
       "      <th>Time</th>\n",
       "      <th>V1</th>\n",
       "      <th>V2</th>\n",
       "      <th>V3</th>\n",
       "      <th>V4</th>\n",
       "      <th>V5</th>\n",
       "      <th>V6</th>\n",
       "      <th>V7</th>\n",
       "      <th>V8</th>\n",
       "      <th>V9</th>\n",
       "      <th>V10</th>\n",
       "      <th>V11</th>\n",
       "      <th>V12</th>\n",
       "      <th>V13</th>\n",
       "      <th>V14</th>\n",
       "      <th>V15</th>\n",
       "      <th>V16</th>\n",
       "      <th>V17</th>\n",
       "      <th>V18</th>\n",
       "      <th>V19</th>\n",
       "      <th>V20</th>\n",
       "      <th>V21</th>\n",
       "      <th>V22</th>\n",
       "      <th>V23</th>\n",
       "      <th>V24</th>\n",
       "      <th>V25</th>\n",
       "      <th>V26</th>\n",
       "      <th>V27</th>\n",
       "      <th>V28</th>\n",
       "      <th>Amount</th>\n",
       "      <th>Class</th>\n",
       "    </tr>\n",
       "  </thead>\n",
       "  <tbody>\n",
       "    <tr>\n",
       "      <td>0</td>\n",
       "      <td>0.0000</td>\n",
       "      <td>-1.3598</td>\n",
       "      <td>-0.0728</td>\n",
       "      <td>2.5363</td>\n",
       "      <td>1.3782</td>\n",
       "      <td>-0.3383</td>\n",
       "      <td>0.4624</td>\n",
       "      <td>0.2396</td>\n",
       "      <td>0.0987</td>\n",
       "      <td>0.3638</td>\n",
       "      <td>0.0908</td>\n",
       "      <td>-0.5516</td>\n",
       "      <td>-0.6178</td>\n",
       "      <td>-0.9914</td>\n",
       "      <td>-0.3112</td>\n",
       "      <td>1.4682</td>\n",
       "      <td>-0.4704</td>\n",
       "      <td>0.2080</td>\n",
       "      <td>0.0258</td>\n",
       "      <td>0.4040</td>\n",
       "      <td>0.2514</td>\n",
       "      <td>-0.0183</td>\n",
       "      <td>0.2778</td>\n",
       "      <td>-0.1105</td>\n",
       "      <td>0.0669</td>\n",
       "      <td>0.1285</td>\n",
       "      <td>-0.1891</td>\n",
       "      <td>0.1336</td>\n",
       "      <td>-0.0211</td>\n",
       "      <td>149.6200</td>\n",
       "      <td>0</td>\n",
       "    </tr>\n",
       "    <tr>\n",
       "      <td>1</td>\n",
       "      <td>0.0000</td>\n",
       "      <td>1.1919</td>\n",
       "      <td>0.2662</td>\n",
       "      <td>0.1665</td>\n",
       "      <td>0.4482</td>\n",
       "      <td>0.0600</td>\n",
       "      <td>-0.0824</td>\n",
       "      <td>-0.0788</td>\n",
       "      <td>0.0851</td>\n",
       "      <td>-0.2554</td>\n",
       "      <td>-0.1670</td>\n",
       "      <td>1.6127</td>\n",
       "      <td>1.0652</td>\n",
       "      <td>0.4891</td>\n",
       "      <td>-0.1438</td>\n",
       "      <td>0.6356</td>\n",
       "      <td>0.4639</td>\n",
       "      <td>-0.1148</td>\n",
       "      <td>-0.1834</td>\n",
       "      <td>-0.1458</td>\n",
       "      <td>-0.0691</td>\n",
       "      <td>-0.2258</td>\n",
       "      <td>-0.6387</td>\n",
       "      <td>0.1013</td>\n",
       "      <td>-0.3398</td>\n",
       "      <td>0.1672</td>\n",
       "      <td>0.1259</td>\n",
       "      <td>-0.0090</td>\n",
       "      <td>0.0147</td>\n",
       "      <td>2.6900</td>\n",
       "      <td>0</td>\n",
       "    </tr>\n",
       "    <tr>\n",
       "      <td>2</td>\n",
       "      <td>1.0000</td>\n",
       "      <td>-1.3584</td>\n",
       "      <td>-1.3402</td>\n",
       "      <td>1.7732</td>\n",
       "      <td>0.3798</td>\n",
       "      <td>-0.5032</td>\n",
       "      <td>1.8005</td>\n",
       "      <td>0.7915</td>\n",
       "      <td>0.2477</td>\n",
       "      <td>-1.5147</td>\n",
       "      <td>0.2076</td>\n",
       "      <td>0.6245</td>\n",
       "      <td>0.0661</td>\n",
       "      <td>0.7173</td>\n",
       "      <td>-0.1659</td>\n",
       "      <td>2.3459</td>\n",
       "      <td>-2.8901</td>\n",
       "      <td>1.1100</td>\n",
       "      <td>-0.1214</td>\n",
       "      <td>-2.2619</td>\n",
       "      <td>0.5250</td>\n",
       "      <td>0.2480</td>\n",
       "      <td>0.7717</td>\n",
       "      <td>0.9094</td>\n",
       "      <td>-0.6893</td>\n",
       "      <td>-0.3276</td>\n",
       "      <td>-0.1391</td>\n",
       "      <td>-0.0554</td>\n",
       "      <td>-0.0598</td>\n",
       "      <td>378.6600</td>\n",
       "      <td>0</td>\n",
       "    </tr>\n",
       "    <tr>\n",
       "      <td>3</td>\n",
       "      <td>1.0000</td>\n",
       "      <td>-0.9663</td>\n",
       "      <td>-0.1852</td>\n",
       "      <td>1.7930</td>\n",
       "      <td>-0.8633</td>\n",
       "      <td>-0.0103</td>\n",
       "      <td>1.2472</td>\n",
       "      <td>0.2376</td>\n",
       "      <td>0.3774</td>\n",
       "      <td>-1.3870</td>\n",
       "      <td>-0.0550</td>\n",
       "      <td>-0.2265</td>\n",
       "      <td>0.1782</td>\n",
       "      <td>0.5078</td>\n",
       "      <td>-0.2879</td>\n",
       "      <td>-0.6314</td>\n",
       "      <td>-1.0596</td>\n",
       "      <td>-0.6841</td>\n",
       "      <td>1.9658</td>\n",
       "      <td>-1.2326</td>\n",
       "      <td>-0.2080</td>\n",
       "      <td>-0.1083</td>\n",
       "      <td>0.0053</td>\n",
       "      <td>-0.1903</td>\n",
       "      <td>-1.1756</td>\n",
       "      <td>0.6474</td>\n",
       "      <td>-0.2219</td>\n",
       "      <td>0.0627</td>\n",
       "      <td>0.0615</td>\n",
       "      <td>123.5000</td>\n",
       "      <td>0</td>\n",
       "    </tr>\n",
       "    <tr>\n",
       "      <td>4</td>\n",
       "      <td>2.0000</td>\n",
       "      <td>-1.1582</td>\n",
       "      <td>0.8777</td>\n",
       "      <td>1.5487</td>\n",
       "      <td>0.4030</td>\n",
       "      <td>-0.4072</td>\n",
       "      <td>0.0959</td>\n",
       "      <td>0.5929</td>\n",
       "      <td>-0.2705</td>\n",
       "      <td>0.8177</td>\n",
       "      <td>0.7531</td>\n",
       "      <td>-0.8228</td>\n",
       "      <td>0.5382</td>\n",
       "      <td>1.3459</td>\n",
       "      <td>-1.1197</td>\n",
       "      <td>0.1751</td>\n",
       "      <td>-0.4514</td>\n",
       "      <td>-0.2370</td>\n",
       "      <td>-0.0382</td>\n",
       "      <td>0.8035</td>\n",
       "      <td>0.4085</td>\n",
       "      <td>-0.0094</td>\n",
       "      <td>0.7983</td>\n",
       "      <td>-0.1375</td>\n",
       "      <td>0.1413</td>\n",
       "      <td>-0.2060</td>\n",
       "      <td>0.5023</td>\n",
       "      <td>0.2194</td>\n",
       "      <td>0.2152</td>\n",
       "      <td>69.9900</td>\n",
       "      <td>0</td>\n",
       "    </tr>\n",
       "  </tbody>\n",
       "</table>\n",
       "</div>"
      ],
      "text/plain": [
       "    Time      V1      V2     V3      V4      V5      V6      V7      V8  \\\n",
       "0 0.0000 -1.3598 -0.0728 2.5363 1.3782  -0.3383 0.4624  0.2396  0.0987    \n",
       "1 0.0000 1.1919  0.2662  0.1665 0.4482  0.0600  -0.0824 -0.0788 0.0851    \n",
       "2 1.0000 -1.3584 -1.3402 1.7732 0.3798  -0.5032 1.8005  0.7915  0.2477    \n",
       "3 1.0000 -0.9663 -0.1852 1.7930 -0.8633 -0.0103 1.2472  0.2376  0.3774    \n",
       "4 2.0000 -1.1582 0.8777  1.5487 0.4030  -0.4072 0.0959  0.5929  -0.2705   \n",
       "\n",
       "       V9     V10     V11     V12     V13     V14     V15     V16     V17  \\\n",
       "0 0.3638  0.0908  -0.5516 -0.6178 -0.9914 -0.3112 1.4682  -0.4704 0.2080    \n",
       "1 -0.2554 -0.1670 1.6127  1.0652  0.4891  -0.1438 0.6356  0.4639  -0.1148   \n",
       "2 -1.5147 0.2076  0.6245  0.0661  0.7173  -0.1659 2.3459  -2.8901 1.1100    \n",
       "3 -1.3870 -0.0550 -0.2265 0.1782  0.5078  -0.2879 -0.6314 -1.0596 -0.6841   \n",
       "4 0.8177  0.7531  -0.8228 0.5382  1.3459  -1.1197 0.1751  -0.4514 -0.2370   \n",
       "\n",
       "      V18     V19     V20     V21     V22     V23     V24     V25     V26  \\\n",
       "0 0.0258  0.4040  0.2514  -0.0183 0.2778  -0.1105 0.0669  0.1285  -0.1891   \n",
       "1 -0.1834 -0.1458 -0.0691 -0.2258 -0.6387 0.1013  -0.3398 0.1672  0.1259    \n",
       "2 -0.1214 -2.2619 0.5250  0.2480  0.7717  0.9094  -0.6893 -0.3276 -0.1391   \n",
       "3 1.9658  -1.2326 -0.2080 -0.1083 0.0053  -0.1903 -1.1756 0.6474  -0.2219   \n",
       "4 -0.0382 0.8035  0.4085  -0.0094 0.7983  -0.1375 0.1413  -0.2060 0.5023    \n",
       "\n",
       "      V27     V28   Amount  Class  \n",
       "0 0.1336  -0.0211 149.6200  0      \n",
       "1 -0.0090 0.0147  2.6900    0      \n",
       "2 -0.0554 -0.0598 378.6600  0      \n",
       "3 0.0627  0.0615  123.5000  0      \n",
       "4 0.2194  0.2152  69.9900   0      "
      ]
     },
     "execution_count": 2,
     "metadata": {},
     "output_type": "execute_result"
    }
   ],
   "source": [
    "df = pd.read_csv('creditcard.csv')\n",
    "df.head()"
   ]
  },
  {
   "cell_type": "code",
   "execution_count": 5,
   "metadata": {},
   "outputs": [
    {
     "data": {
      "text/plain": [
       "(284807, 31)"
      ]
     },
     "execution_count": 5,
     "metadata": {},
     "output_type": "execute_result"
    }
   ],
   "source": [
    "df.shape"
   ]
  },
  {
   "cell_type": "code",
   "execution_count": 6,
   "metadata": {},
   "outputs": [
    {
     "data": {
      "text/html": [
       "<div>\n",
       "<style scoped>\n",
       "    .dataframe tbody tr th:only-of-type {\n",
       "        vertical-align: middle;\n",
       "    }\n",
       "\n",
       "    .dataframe tbody tr th {\n",
       "        vertical-align: top;\n",
       "    }\n",
       "\n",
       "    .dataframe thead th {\n",
       "        text-align: right;\n",
       "    }\n",
       "</style>\n",
       "<table border=\"1\" class=\"dataframe\">\n",
       "  <thead>\n",
       "    <tr style=\"text-align: right;\">\n",
       "      <th></th>\n",
       "      <th>Time</th>\n",
       "      <th>V1</th>\n",
       "      <th>V2</th>\n",
       "      <th>V3</th>\n",
       "      <th>V4</th>\n",
       "      <th>V5</th>\n",
       "      <th>V6</th>\n",
       "      <th>V7</th>\n",
       "      <th>V8</th>\n",
       "      <th>V9</th>\n",
       "      <th>V10</th>\n",
       "      <th>V11</th>\n",
       "      <th>V12</th>\n",
       "      <th>V13</th>\n",
       "      <th>V14</th>\n",
       "      <th>V15</th>\n",
       "      <th>V16</th>\n",
       "      <th>V17</th>\n",
       "      <th>V18</th>\n",
       "      <th>V19</th>\n",
       "      <th>V20</th>\n",
       "      <th>V21</th>\n",
       "      <th>V22</th>\n",
       "      <th>V23</th>\n",
       "      <th>V24</th>\n",
       "      <th>V25</th>\n",
       "      <th>V26</th>\n",
       "      <th>V27</th>\n",
       "      <th>V28</th>\n",
       "      <th>Amount</th>\n",
       "      <th>Class</th>\n",
       "    </tr>\n",
       "  </thead>\n",
       "  <tbody>\n",
       "    <tr>\n",
       "      <td>count</td>\n",
       "      <td>284807.0000</td>\n",
       "      <td>284807.0000</td>\n",
       "      <td>284807.0000</td>\n",
       "      <td>284807.0000</td>\n",
       "      <td>284807.0000</td>\n",
       "      <td>284807.0000</td>\n",
       "      <td>284807.0000</td>\n",
       "      <td>284807.0000</td>\n",
       "      <td>284807.0000</td>\n",
       "      <td>284807.0000</td>\n",
       "      <td>284807.0000</td>\n",
       "      <td>284807.0000</td>\n",
       "      <td>284807.0000</td>\n",
       "      <td>284807.0000</td>\n",
       "      <td>284807.0000</td>\n",
       "      <td>284807.0000</td>\n",
       "      <td>284807.0000</td>\n",
       "      <td>284807.0000</td>\n",
       "      <td>284807.0000</td>\n",
       "      <td>284807.0000</td>\n",
       "      <td>284807.0000</td>\n",
       "      <td>284807.0000</td>\n",
       "      <td>284807.0000</td>\n",
       "      <td>284807.0000</td>\n",
       "      <td>284807.0000</td>\n",
       "      <td>284807.0000</td>\n",
       "      <td>284807.0000</td>\n",
       "      <td>284807.0000</td>\n",
       "      <td>284807.0000</td>\n",
       "      <td>284807.0000</td>\n",
       "      <td>284807.0000</td>\n",
       "    </tr>\n",
       "    <tr>\n",
       "      <td>mean</td>\n",
       "      <td>94813.8596</td>\n",
       "      <td>0.0000</td>\n",
       "      <td>0.0000</td>\n",
       "      <td>-0.0000</td>\n",
       "      <td>0.0000</td>\n",
       "      <td>-0.0000</td>\n",
       "      <td>0.0000</td>\n",
       "      <td>-0.0000</td>\n",
       "      <td>-0.0000</td>\n",
       "      <td>-0.0000</td>\n",
       "      <td>0.0000</td>\n",
       "      <td>0.0000</td>\n",
       "      <td>-0.0000</td>\n",
       "      <td>0.0000</td>\n",
       "      <td>0.0000</td>\n",
       "      <td>0.0000</td>\n",
       "      <td>0.0000</td>\n",
       "      <td>-0.0000</td>\n",
       "      <td>0.0000</td>\n",
       "      <td>0.0000</td>\n",
       "      <td>0.0000</td>\n",
       "      <td>0.0000</td>\n",
       "      <td>0.0000</td>\n",
       "      <td>0.0000</td>\n",
       "      <td>0.0000</td>\n",
       "      <td>0.0000</td>\n",
       "      <td>0.0000</td>\n",
       "      <td>-0.0000</td>\n",
       "      <td>-0.0000</td>\n",
       "      <td>88.3496</td>\n",
       "      <td>0.0017</td>\n",
       "    </tr>\n",
       "    <tr>\n",
       "      <td>std</td>\n",
       "      <td>47488.1460</td>\n",
       "      <td>1.9587</td>\n",
       "      <td>1.6513</td>\n",
       "      <td>1.5163</td>\n",
       "      <td>1.4159</td>\n",
       "      <td>1.3802</td>\n",
       "      <td>1.3323</td>\n",
       "      <td>1.2371</td>\n",
       "      <td>1.1944</td>\n",
       "      <td>1.0986</td>\n",
       "      <td>1.0888</td>\n",
       "      <td>1.0207</td>\n",
       "      <td>0.9992</td>\n",
       "      <td>0.9953</td>\n",
       "      <td>0.9586</td>\n",
       "      <td>0.9153</td>\n",
       "      <td>0.8763</td>\n",
       "      <td>0.8493</td>\n",
       "      <td>0.8382</td>\n",
       "      <td>0.8140</td>\n",
       "      <td>0.7709</td>\n",
       "      <td>0.7345</td>\n",
       "      <td>0.7257</td>\n",
       "      <td>0.6245</td>\n",
       "      <td>0.6056</td>\n",
       "      <td>0.5213</td>\n",
       "      <td>0.4822</td>\n",
       "      <td>0.4036</td>\n",
       "      <td>0.3301</td>\n",
       "      <td>250.1201</td>\n",
       "      <td>0.0415</td>\n",
       "    </tr>\n",
       "    <tr>\n",
       "      <td>min</td>\n",
       "      <td>0.0000</td>\n",
       "      <td>-56.4075</td>\n",
       "      <td>-72.7157</td>\n",
       "      <td>-48.3256</td>\n",
       "      <td>-5.6832</td>\n",
       "      <td>-113.7433</td>\n",
       "      <td>-26.1605</td>\n",
       "      <td>-43.5572</td>\n",
       "      <td>-73.2167</td>\n",
       "      <td>-13.4341</td>\n",
       "      <td>-24.5883</td>\n",
       "      <td>-4.7975</td>\n",
       "      <td>-18.6837</td>\n",
       "      <td>-5.7919</td>\n",
       "      <td>-19.2143</td>\n",
       "      <td>-4.4989</td>\n",
       "      <td>-14.1299</td>\n",
       "      <td>-25.1628</td>\n",
       "      <td>-9.4987</td>\n",
       "      <td>-7.2135</td>\n",
       "      <td>-54.4977</td>\n",
       "      <td>-34.8304</td>\n",
       "      <td>-10.9331</td>\n",
       "      <td>-44.8077</td>\n",
       "      <td>-2.8366</td>\n",
       "      <td>-10.2954</td>\n",
       "      <td>-2.6046</td>\n",
       "      <td>-22.5657</td>\n",
       "      <td>-15.4301</td>\n",
       "      <td>0.0000</td>\n",
       "      <td>0.0000</td>\n",
       "    </tr>\n",
       "    <tr>\n",
       "      <td>25%</td>\n",
       "      <td>54201.5000</td>\n",
       "      <td>-0.9204</td>\n",
       "      <td>-0.5985</td>\n",
       "      <td>-0.8904</td>\n",
       "      <td>-0.8486</td>\n",
       "      <td>-0.6916</td>\n",
       "      <td>-0.7683</td>\n",
       "      <td>-0.5541</td>\n",
       "      <td>-0.2086</td>\n",
       "      <td>-0.6431</td>\n",
       "      <td>-0.5354</td>\n",
       "      <td>-0.7625</td>\n",
       "      <td>-0.4056</td>\n",
       "      <td>-0.6485</td>\n",
       "      <td>-0.4256</td>\n",
       "      <td>-0.5829</td>\n",
       "      <td>-0.4680</td>\n",
       "      <td>-0.4837</td>\n",
       "      <td>-0.4988</td>\n",
       "      <td>-0.4563</td>\n",
       "      <td>-0.2117</td>\n",
       "      <td>-0.2284</td>\n",
       "      <td>-0.5424</td>\n",
       "      <td>-0.1618</td>\n",
       "      <td>-0.3546</td>\n",
       "      <td>-0.3171</td>\n",
       "      <td>-0.3270</td>\n",
       "      <td>-0.0708</td>\n",
       "      <td>-0.0530</td>\n",
       "      <td>5.6000</td>\n",
       "      <td>0.0000</td>\n",
       "    </tr>\n",
       "    <tr>\n",
       "      <td>50%</td>\n",
       "      <td>84692.0000</td>\n",
       "      <td>0.0181</td>\n",
       "      <td>0.0655</td>\n",
       "      <td>0.1798</td>\n",
       "      <td>-0.0198</td>\n",
       "      <td>-0.0543</td>\n",
       "      <td>-0.2742</td>\n",
       "      <td>0.0401</td>\n",
       "      <td>0.0224</td>\n",
       "      <td>-0.0514</td>\n",
       "      <td>-0.0929</td>\n",
       "      <td>-0.0328</td>\n",
       "      <td>0.1400</td>\n",
       "      <td>-0.0136</td>\n",
       "      <td>0.0506</td>\n",
       "      <td>0.0481</td>\n",
       "      <td>0.0664</td>\n",
       "      <td>-0.0657</td>\n",
       "      <td>-0.0036</td>\n",
       "      <td>0.0037</td>\n",
       "      <td>-0.0625</td>\n",
       "      <td>-0.0295</td>\n",
       "      <td>0.0068</td>\n",
       "      <td>-0.0112</td>\n",
       "      <td>0.0410</td>\n",
       "      <td>0.0166</td>\n",
       "      <td>-0.0521</td>\n",
       "      <td>0.0013</td>\n",
       "      <td>0.0112</td>\n",
       "      <td>22.0000</td>\n",
       "      <td>0.0000</td>\n",
       "    </tr>\n",
       "    <tr>\n",
       "      <td>75%</td>\n",
       "      <td>139320.5000</td>\n",
       "      <td>1.3156</td>\n",
       "      <td>0.8037</td>\n",
       "      <td>1.0272</td>\n",
       "      <td>0.7433</td>\n",
       "      <td>0.6119</td>\n",
       "      <td>0.3986</td>\n",
       "      <td>0.5704</td>\n",
       "      <td>0.3273</td>\n",
       "      <td>0.5971</td>\n",
       "      <td>0.4539</td>\n",
       "      <td>0.7396</td>\n",
       "      <td>0.6182</td>\n",
       "      <td>0.6625</td>\n",
       "      <td>0.4931</td>\n",
       "      <td>0.6488</td>\n",
       "      <td>0.5233</td>\n",
       "      <td>0.3997</td>\n",
       "      <td>0.5008</td>\n",
       "      <td>0.4589</td>\n",
       "      <td>0.1330</td>\n",
       "      <td>0.1864</td>\n",
       "      <td>0.5286</td>\n",
       "      <td>0.1476</td>\n",
       "      <td>0.4395</td>\n",
       "      <td>0.3507</td>\n",
       "      <td>0.2410</td>\n",
       "      <td>0.0910</td>\n",
       "      <td>0.0783</td>\n",
       "      <td>77.1650</td>\n",
       "      <td>0.0000</td>\n",
       "    </tr>\n",
       "    <tr>\n",
       "      <td>max</td>\n",
       "      <td>172792.0000</td>\n",
       "      <td>2.4549</td>\n",
       "      <td>22.0577</td>\n",
       "      <td>9.3826</td>\n",
       "      <td>16.8753</td>\n",
       "      <td>34.8017</td>\n",
       "      <td>73.3016</td>\n",
       "      <td>120.5895</td>\n",
       "      <td>20.0072</td>\n",
       "      <td>15.5950</td>\n",
       "      <td>23.7451</td>\n",
       "      <td>12.0189</td>\n",
       "      <td>7.8484</td>\n",
       "      <td>7.1269</td>\n",
       "      <td>10.5268</td>\n",
       "      <td>8.8777</td>\n",
       "      <td>17.3151</td>\n",
       "      <td>9.2535</td>\n",
       "      <td>5.0411</td>\n",
       "      <td>5.5920</td>\n",
       "      <td>39.4209</td>\n",
       "      <td>27.2028</td>\n",
       "      <td>10.5031</td>\n",
       "      <td>22.5284</td>\n",
       "      <td>4.5845</td>\n",
       "      <td>7.5196</td>\n",
       "      <td>3.5173</td>\n",
       "      <td>31.6122</td>\n",
       "      <td>33.8478</td>\n",
       "      <td>25691.1600</td>\n",
       "      <td>1.0000</td>\n",
       "    </tr>\n",
       "  </tbody>\n",
       "</table>\n",
       "</div>"
      ],
      "text/plain": [
       "             Time          V1          V2          V3          V4          V5  \\\n",
       "count 284807.0000 284807.0000 284807.0000 284807.0000 284807.0000 284807.0000   \n",
       "mean  94813.8596  0.0000      0.0000      -0.0000     0.0000      -0.0000       \n",
       "std   47488.1460  1.9587      1.6513      1.5163      1.4159      1.3802        \n",
       "min   0.0000      -56.4075    -72.7157    -48.3256    -5.6832     -113.7433     \n",
       "25%   54201.5000  -0.9204     -0.5985     -0.8904     -0.8486     -0.6916       \n",
       "50%   84692.0000  0.0181      0.0655      0.1798      -0.0198     -0.0543       \n",
       "75%   139320.5000 1.3156      0.8037      1.0272      0.7433      0.6119        \n",
       "max   172792.0000 2.4549      22.0577     9.3826      16.8753     34.8017       \n",
       "\n",
       "               V6          V7          V8          V9         V10         V11  \\\n",
       "count 284807.0000 284807.0000 284807.0000 284807.0000 284807.0000 284807.0000   \n",
       "mean  0.0000      -0.0000     -0.0000     -0.0000     0.0000      0.0000        \n",
       "std   1.3323      1.2371      1.1944      1.0986      1.0888      1.0207        \n",
       "min   -26.1605    -43.5572    -73.2167    -13.4341    -24.5883    -4.7975       \n",
       "25%   -0.7683     -0.5541     -0.2086     -0.6431     -0.5354     -0.7625       \n",
       "50%   -0.2742     0.0401      0.0224      -0.0514     -0.0929     -0.0328       \n",
       "75%   0.3986      0.5704      0.3273      0.5971      0.4539      0.7396        \n",
       "max   73.3016     120.5895    20.0072     15.5950     23.7451     12.0189       \n",
       "\n",
       "              V12         V13         V14         V15         V16         V17  \\\n",
       "count 284807.0000 284807.0000 284807.0000 284807.0000 284807.0000 284807.0000   \n",
       "mean  -0.0000     0.0000      0.0000      0.0000      0.0000      -0.0000       \n",
       "std   0.9992      0.9953      0.9586      0.9153      0.8763      0.8493        \n",
       "min   -18.6837    -5.7919     -19.2143    -4.4989     -14.1299    -25.1628      \n",
       "25%   -0.4056     -0.6485     -0.4256     -0.5829     -0.4680     -0.4837       \n",
       "50%   0.1400      -0.0136     0.0506      0.0481      0.0664      -0.0657       \n",
       "75%   0.6182      0.6625      0.4931      0.6488      0.5233      0.3997        \n",
       "max   7.8484      7.1269      10.5268     8.8777      17.3151     9.2535        \n",
       "\n",
       "              V18         V19         V20         V21         V22         V23  \\\n",
       "count 284807.0000 284807.0000 284807.0000 284807.0000 284807.0000 284807.0000   \n",
       "mean  0.0000      0.0000      0.0000      0.0000      0.0000      0.0000        \n",
       "std   0.8382      0.8140      0.7709      0.7345      0.7257      0.6245        \n",
       "min   -9.4987     -7.2135     -54.4977    -34.8304    -10.9331    -44.8077      \n",
       "25%   -0.4988     -0.4563     -0.2117     -0.2284     -0.5424     -0.1618       \n",
       "50%   -0.0036     0.0037      -0.0625     -0.0295     0.0068      -0.0112       \n",
       "75%   0.5008      0.4589      0.1330      0.1864      0.5286      0.1476        \n",
       "max   5.0411      5.5920      39.4209     27.2028     10.5031     22.5284       \n",
       "\n",
       "              V24         V25         V26         V27         V28      Amount  \\\n",
       "count 284807.0000 284807.0000 284807.0000 284807.0000 284807.0000 284807.0000   \n",
       "mean  0.0000      0.0000      0.0000      -0.0000     -0.0000     88.3496       \n",
       "std   0.6056      0.5213      0.4822      0.4036      0.3301      250.1201      \n",
       "min   -2.8366     -10.2954    -2.6046     -22.5657    -15.4301    0.0000        \n",
       "25%   -0.3546     -0.3171     -0.3270     -0.0708     -0.0530     5.6000        \n",
       "50%   0.0410      0.0166      -0.0521     0.0013      0.0112      22.0000       \n",
       "75%   0.4395      0.3507      0.2410      0.0910      0.0783      77.1650       \n",
       "max   4.5845      7.5196      3.5173      31.6122     33.8478     25691.1600    \n",
       "\n",
       "            Class  \n",
       "count 284807.0000  \n",
       "mean  0.0017       \n",
       "std   0.0415       \n",
       "min   0.0000       \n",
       "25%   0.0000       \n",
       "50%   0.0000       \n",
       "75%   0.0000       \n",
       "max   1.0000       "
      ]
     },
     "execution_count": 6,
     "metadata": {},
     "output_type": "execute_result"
    }
   ],
   "source": [
    "df.describe()"
   ]
  },
  {
   "cell_type": "code",
   "execution_count": 7,
   "metadata": {},
   "outputs": [
    {
     "name": "stdout",
     "output_type": "stream",
     "text": [
      "<class 'pandas.core.frame.DataFrame'>\n",
      "RangeIndex: 284807 entries, 0 to 284806\n",
      "Data columns (total 31 columns):\n",
      "Time      284807 non-null float64\n",
      "V1        284807 non-null float64\n",
      "V2        284807 non-null float64\n",
      "V3        284807 non-null float64\n",
      "V4        284807 non-null float64\n",
      "V5        284807 non-null float64\n",
      "V6        284807 non-null float64\n",
      "V7        284807 non-null float64\n",
      "V8        284807 non-null float64\n",
      "V9        284807 non-null float64\n",
      "V10       284807 non-null float64\n",
      "V11       284807 non-null float64\n",
      "V12       284807 non-null float64\n",
      "V13       284807 non-null float64\n",
      "V14       284807 non-null float64\n",
      "V15       284807 non-null float64\n",
      "V16       284807 non-null float64\n",
      "V17       284807 non-null float64\n",
      "V18       284807 non-null float64\n",
      "V19       284807 non-null float64\n",
      "V20       284807 non-null float64\n",
      "V21       284807 non-null float64\n",
      "V22       284807 non-null float64\n",
      "V23       284807 non-null float64\n",
      "V24       284807 non-null float64\n",
      "V25       284807 non-null float64\n",
      "V26       284807 non-null float64\n",
      "V27       284807 non-null float64\n",
      "V28       284807 non-null float64\n",
      "Amount    284807 non-null float64\n",
      "Class     284807 non-null int64\n",
      "dtypes: float64(30), int64(1)\n",
      "memory usage: 67.4 MB\n"
     ]
    }
   ],
   "source": [
    "df.info()"
   ]
  },
  {
   "cell_type": "markdown",
   "metadata": {},
   "source": [
    "## DATA CLEANSING"
   ]
  },
  {
   "cell_type": "code",
   "execution_count": 8,
   "metadata": {},
   "outputs": [
    {
     "data": {
      "text/plain": [
       "Class   0.0000\n",
       "V14     0.0000\n",
       "V1      0.0000\n",
       "V2      0.0000\n",
       "V3      0.0000\n",
       "dtype: float64"
      ]
     },
     "execution_count": 8,
     "metadata": {},
     "output_type": "execute_result"
    }
   ],
   "source": [
    "# Calculating the NULL VALUES% in the DF\n",
    "\n",
    "df_null = df.isnull().mean()*100\n",
    "df_null.sort_values(ascending=False).head()"
   ]
  },
  {
   "cell_type": "markdown",
   "metadata": {},
   "source": [
    "NO NULL VALUES ,NO NULL TREATMENT REQUIRED\n"
   ]
  },
  {
   "cell_type": "code",
   "execution_count": 11,
   "metadata": {},
   "outputs": [
    {
     "data": {
      "text/plain": [
       "Time      float64\n",
       "V1        float64\n",
       "V2        float64\n",
       "V3        float64\n",
       "V4        float64\n",
       "V5        float64\n",
       "V6        float64\n",
       "V7        float64\n",
       "V8        float64\n",
       "V9        float64\n",
       "V10       float64\n",
       "V11       float64\n",
       "V12       float64\n",
       "V13       float64\n",
       "V14       float64\n",
       "V15       float64\n",
       "V16       float64\n",
       "V17       float64\n",
       "V18       float64\n",
       "V19       float64\n",
       "V20       float64\n",
       "V21       float64\n",
       "V22       float64\n",
       "V23       float64\n",
       "V24       float64\n",
       "V25       float64\n",
       "V26       float64\n",
       "V27       float64\n",
       "V28       float64\n",
       "Amount    float64\n",
       "Class     int64  \n",
       "dtype: object"
      ]
     },
     "execution_count": 11,
     "metadata": {},
     "output_type": "execute_result"
    }
   ],
   "source": [
    "#LET'S CHECK DATA TYPE\n",
    "df.dtypes"
   ]
  },
  {
   "cell_type": "markdown",
   "metadata": {},
   "source": [
    "### DATA VISUALISATION"
   ]
  },
  {
   "cell_type": "code",
   "execution_count": 15,
   "metadata": {},
   "outputs": [
    {
     "data": {
      "image/png": "[encoded data removed]",
      "text/plain": [
       "<Figure size 1080x720 with 2 Axes>"
      ]
     },
     "metadata": {
      "needs_background": "light"
     },
     "output_type": "display_data"
    }
   ],
   "source": [
    "#let's  visualise the distribution of \"Fraudulent\" Variables\n",
    "plt.figure(figsize=(15,10))\n",
    "plt.subplot(121)\n",
    "plt.title('Fraudulent BarPlot', fontweight='bold',fontsize=16)\n",
    "ax = df['Class'].value_counts().plot(kind='bar')\n",
    "total = float(len(df))\n",
    "for p in ax.patches:\n",
    "    height = p.get_height()\n",
    "    ax.text(p.get_x()+p.get_width()/2.,\n",
    "            height + 3,\n",
    "            '{:1.5f}'.format(height/total),\n",
    "            ha=\"center\") \n",
    "\n",
    "\n",
    "plt.subplot(122)\n",
    "df[\"Class\"].value_counts().plot.pie(autopct = \"%1.5f%%\")\n",
    "plt.show()\n"
   ]
  },
  {
   "cell_type": "code",
   "execution_count": 122,
   "metadata": {},
   "outputs": [
    {
     "name": "stdout",
     "output_type": "stream",
     "text": [
      "99.82725143693798\n",
      "0.1727485630620034\n"
     ]
    }
   ],
   "source": [
    "classes=df['Class'].value_counts()\n",
    "normal_share=classes[0]/df['Class'].count()*100\n",
    "fraud_share=classes[1]/df['Class'].count()*100\n",
    "print(normal_share)\n",
    "print(fraud_share)"
   ]
  },
  {
   "cell_type": "markdown",
   "metadata": {},
   "source": [
    "We can observe the accuracy score to evaluate our classification algorithm will not be correct.Just using accuracy as the evaluation metric will predit every case as 0 Non Fraud and hence it will be wrong."
   ]
  },
  {
   "cell_type": "code",
   "execution_count": 18,
   "metadata": {},
   "outputs": [
    {
     "data": {
      "text/plain": [
       "[None, None, None, None]"
      ]
     },
     "execution_count": 18,
     "metadata": {},
     "output_type": "execute_result"
    },
    {
     "data": {
      "image/png": "[encoded data removed]",
      "text/plain": [
       "<Figure size 576x504 with 1 Axes>"
      ]
     },
     "metadata": {
      "needs_background": "light"
     },
     "output_type": "display_data"
    }
   ],
   "source": [
    "# Box Plot of amount for both classes\n",
    "plt.figure(figsize = (8, 7))\n",
    "a=sns.boxplot(x = 'Class', y = 'Amount',hue='Class', data = df,showfliers=False) \n",
    "plt.setp(a.get_xticklabels(), rotation=45)"
   ]
  },
  {
   "cell_type": "code",
   "execution_count": 20,
   "metadata": {},
   "outputs": [
    {
     "data": {
      "text/plain": [
       "Text(0, 0.5, 'Density')"
      ]
     },
     "execution_count": 20,
     "metadata": {},
     "output_type": "execute_result"
    },
    {
     "data": {
      "image/png": "[encoded data removed]",
      "text/plain": [
       "<Figure size 720x432 with 1 Axes>"
      ]
     },
     "metadata": {
      "needs_background": "light"
     },
     "output_type": "display_data"
    }
   ],
   "source": [
    "# KDE plot to visualize the distribution of Amount for both the classes\n",
    "plt.rcParams['figure.figsize'] = [10,6]\n",
    "sns.kdeplot(df.loc[df['Class'] == 0, 'Amount'], label = 'Non Fraud')\n",
    "sns.kdeplot(df.loc[df['Class'] == 1, 'Amount'], label = 'Fraud')\n",
    "plt.title('Distribution of Amount by Target Value')\n",
    "plt.xlabel('Amount')\n",
    "plt.ylabel('Density')"
   ]
  },
  {
   "cell_type": "markdown",
   "metadata": {},
   "source": [
    "We see that the distribution of amount for Fraud transactions is much higher than non-fradualent transactions."
   ]
  },
  {
   "cell_type": "code",
   "execution_count": 22,
   "metadata": {},
   "outputs": [
    {
     "data": {
      "text/plain": [
       "<matplotlib.axes._subplots.AxesSubplot at 0x23422471b08>"
      ]
     },
     "execution_count": 22,
     "metadata": {},
     "output_type": "execute_result"
    },
    {
     "data": {
      "image/png": "[encoded data removed]",
      "text/plain": [
       "<Figure size 1080x504 with 1 Axes>"
      ]
     },
     "metadata": {
      "needs_background": "light"
     },
     "output_type": "display_data"
    }
   ],
   "source": [
    "# Time Distribution plot for transactions \n",
    "plt.figure(figsize=(15,7))\n",
    "\n",
    "plt.title('Distribution of Transaction Time')\n",
    "sns.distplot(df['Time'].values/(60*60))"
   ]
  },
  {
   "cell_type": "code",
   "execution_count": 23,
   "metadata": {},
   "outputs": [],
   "source": [
    "# Storing Fraud and non-Fraud transactions \n",
    "\n",
    "df_nonfraud = df[df.Class == 0]\n",
    "df_fraud = df[df.Class == 1]"
   ]
  },
  {
   "cell_type": "code",
   "execution_count": 24,
   "metadata": {},
   "outputs": [
    {
     "data": {
      "image/png": "[encoded data removed]",
      "text/plain": [
       "<Figure size 576x576 with 1 Axes>"
      ]
     },
     "metadata": {
      "needs_background": "light"
     },
     "output_type": "display_data"
    }
   ],
   "source": [
    "#Scatter plot between Time and Amount\n",
    "\n",
    "fig = plt.figure(figsize = (8,8))\n",
    "plt.scatter(df_nonfraud.Amount, df_nonfraud.Time.values/(60*60),alpha=0.5,label='Non Fraud')\n",
    "plt.scatter(df_fraud.Amount, df_fraud.Time.values/(60*60),alpha=1,label='Fraud')\n",
    "plt.xlabel('Amount')\n",
    "plt.ylabel('Time')\n",
    "plt.title('Scatter plot between Amount and Time ')\n",
    "plt.show()"
   ]
  },
  {
   "cell_type": "code",
   "execution_count": 25,
   "metadata": {},
   "outputs": [
    {
     "data": {
      "image/png": "[encoded data removed]",
      "text/plain": [
       "<Figure size 720x432 with 1 Axes>"
      ]
     },
     "metadata": {
      "needs_background": "light"
     },
     "output_type": "display_data"
    }
   ],
   "source": [
    "# Now let's Plot of high value transactions($200-$2000)\n",
    "\n",
    "bins = np.linspace(200, 2000, 100)\n",
    "plt.hist(df_nonfraud.Amount, bins, alpha=1, density=True, label='Non-Fraud')\n",
    "plt.hist(df_fraud.Amount, bins, alpha=1, density=True, label='Fraud')\n",
    "plt.legend(loc='upper right')\n",
    "plt.title(\"Amount by percentage of transactions (transactions \\$200-$2000)\")\n",
    "plt.xlabel(\"Transaction amount (USD)\")\n",
    "plt.ylabel(\"Percentage of transactions (%)\")\n",
    "plt.show()\n"
   ]
  },
  {
   "cell_type": "markdown",
   "metadata": {},
   "source": [
    "We can see in the long tail, fraud transaction happened more frequently and it seems it would be hard to differentiate fraud from normal transactions by transaction amount alone."
   ]
  },
  {
   "cell_type": "code",
   "execution_count": 26,
   "metadata": {},
   "outputs": [
    {
     "data": {
      "image/png": "[encoded data removed]",
      "text/plain": [
       "<Figure size 720x432 with 1 Axes>"
      ]
     },
     "metadata": {
      "needs_background": "light"
     },
     "output_type": "display_data"
    }
   ],
   "source": [
    "# Plot of transactions in 48 hours\n",
    "\n",
    "bins = np.linspace(0, 48, 48)\n",
    "plt.hist((df_nonfraud.Time/(60*60)), bins, alpha=1,label='Non-Fraud')\n",
    "plt.hist((df_fraud.Time/(60*60)), bins, alpha=0.6,label='Fraud')\n",
    "plt.legend(loc='upper right')\n",
    "plt.title(\"Percentage of transactions by hour\")\n",
    "plt.xlabel(\"Transaction time from first transaction in the dataset (hours)\")\n",
    "plt.ylabel(\"Percentage of transactions (%)\")\n",
    "plt.show()\n"
   ]
  },
  {
   "cell_type": "markdown",
   "metadata": {},
   "source": [
    "Here,the hour zero corresponds to the hour the first transaction happened and not necessarily 12-1 AM. Given the heavy decrease in normal transactions from hours 1 to 8 and again roughly at hours 24 to 32, it seems fraud tends to occur at higher rates during the night."
   ]
  },
  {
   "cell_type": "markdown",
   "metadata": {},
   "source": [
    "### Splitting the Data into Training and Testing Sets"
   ]
  },
  {
   "cell_type": "code",
   "execution_count": 28,
   "metadata": {},
   "outputs": [
    {
     "data": {
      "text/html": [
       "<div>\n",
       "<style scoped>\n",
       "    .dataframe tbody tr th:only-of-type {\n",
       "        vertical-align: middle;\n",
       "    }\n",
       "\n",
       "    .dataframe tbody tr th {\n",
       "        vertical-align: top;\n",
       "    }\n",
       "\n",
       "    .dataframe thead th {\n",
       "        text-align: right;\n",
       "    }\n",
       "</style>\n",
       "<table border=\"1\" class=\"dataframe\">\n",
       "  <thead>\n",
       "    <tr style=\"text-align: right;\">\n",
       "      <th></th>\n",
       "      <th>Time</th>\n",
       "      <th>V1</th>\n",
       "      <th>V2</th>\n",
       "      <th>V3</th>\n",
       "      <th>V4</th>\n",
       "      <th>V5</th>\n",
       "      <th>V6</th>\n",
       "      <th>V7</th>\n",
       "      <th>V8</th>\n",
       "      <th>V9</th>\n",
       "      <th>V10</th>\n",
       "      <th>V11</th>\n",
       "      <th>V12</th>\n",
       "      <th>V13</th>\n",
       "      <th>V14</th>\n",
       "      <th>V15</th>\n",
       "      <th>V16</th>\n",
       "      <th>V17</th>\n",
       "      <th>V18</th>\n",
       "      <th>V19</th>\n",
       "      <th>V20</th>\n",
       "      <th>V21</th>\n",
       "      <th>V22</th>\n",
       "      <th>V23</th>\n",
       "      <th>V24</th>\n",
       "      <th>V25</th>\n",
       "      <th>V26</th>\n",
       "      <th>V27</th>\n",
       "      <th>V28</th>\n",
       "      <th>Amount</th>\n",
       "    </tr>\n",
       "  </thead>\n",
       "  <tbody>\n",
       "    <tr>\n",
       "      <td>0</td>\n",
       "      <td>0.0000</td>\n",
       "      <td>-1.3598</td>\n",
       "      <td>-0.0728</td>\n",
       "      <td>2.5363</td>\n",
       "      <td>1.3782</td>\n",
       "      <td>-0.3383</td>\n",
       "      <td>0.4624</td>\n",
       "      <td>0.2396</td>\n",
       "      <td>0.0987</td>\n",
       "      <td>0.3638</td>\n",
       "      <td>0.0908</td>\n",
       "      <td>-0.5516</td>\n",
       "      <td>-0.6178</td>\n",
       "      <td>-0.9914</td>\n",
       "      <td>-0.3112</td>\n",
       "      <td>1.4682</td>\n",
       "      <td>-0.4704</td>\n",
       "      <td>0.2080</td>\n",
       "      <td>0.0258</td>\n",
       "      <td>0.4040</td>\n",
       "      <td>0.2514</td>\n",
       "      <td>-0.0183</td>\n",
       "      <td>0.2778</td>\n",
       "      <td>-0.1105</td>\n",
       "      <td>0.0669</td>\n",
       "      <td>0.1285</td>\n",
       "      <td>-0.1891</td>\n",
       "      <td>0.1336</td>\n",
       "      <td>-0.0211</td>\n",
       "      <td>149.6200</td>\n",
       "    </tr>\n",
       "    <tr>\n",
       "      <td>1</td>\n",
       "      <td>0.0000</td>\n",
       "      <td>1.1919</td>\n",
       "      <td>0.2662</td>\n",
       "      <td>0.1665</td>\n",
       "      <td>0.4482</td>\n",
       "      <td>0.0600</td>\n",
       "      <td>-0.0824</td>\n",
       "      <td>-0.0788</td>\n",
       "      <td>0.0851</td>\n",
       "      <td>-0.2554</td>\n",
       "      <td>-0.1670</td>\n",
       "      <td>1.6127</td>\n",
       "      <td>1.0652</td>\n",
       "      <td>0.4891</td>\n",
       "      <td>-0.1438</td>\n",
       "      <td>0.6356</td>\n",
       "      <td>0.4639</td>\n",
       "      <td>-0.1148</td>\n",
       "      <td>-0.1834</td>\n",
       "      <td>-0.1458</td>\n",
       "      <td>-0.0691</td>\n",
       "      <td>-0.2258</td>\n",
       "      <td>-0.6387</td>\n",
       "      <td>0.1013</td>\n",
       "      <td>-0.3398</td>\n",
       "      <td>0.1672</td>\n",
       "      <td>0.1259</td>\n",
       "      <td>-0.0090</td>\n",
       "      <td>0.0147</td>\n",
       "      <td>2.6900</td>\n",
       "    </tr>\n",
       "  </tbody>\n",
       "</table>\n",
       "</div>"
      ],
      "text/plain": [
       "    Time      V1      V2     V3     V4      V5      V6      V7     V8      V9  \\\n",
       "0 0.0000 -1.3598 -0.0728 2.5363 1.3782 -0.3383 0.4624  0.2396  0.0987 0.3638    \n",
       "1 0.0000 1.1919  0.2662  0.1665 0.4482 0.0600  -0.0824 -0.0788 0.0851 -0.2554   \n",
       "\n",
       "      V10     V11     V12     V13     V14    V15     V16     V17     V18  \\\n",
       "0 0.0908  -0.5516 -0.6178 -0.9914 -0.3112 1.4682 -0.4704 0.2080  0.0258    \n",
       "1 -0.1670 1.6127  1.0652  0.4891  -0.1438 0.6356 0.4639  -0.1148 -0.1834   \n",
       "\n",
       "      V19     V20     V21     V22     V23     V24    V25     V26     V27  \\\n",
       "0 0.4040  0.2514  -0.0183 0.2778  -0.1105 0.0669  0.1285 -0.1891 0.1336    \n",
       "1 -0.1458 -0.0691 -0.2258 -0.6387 0.1013  -0.3398 0.1672 0.1259  -0.0090   \n",
       "\n",
       "      V28   Amount  \n",
       "0 -0.0211 149.6200  \n",
       "1 0.0147  2.6900    "
      ]
     },
     "execution_count": 28,
     "metadata": {},
     "output_type": "execute_result"
    }
   ],
   "source": [
    "# LET'S put the feature variable into X\n",
    "\n",
    "X = df.drop(['Class'],axis = 1)\n",
    "X.head(2)"
   ]
  },
  {
   "cell_type": "code",
   "execution_count": 29,
   "metadata": {},
   "outputs": [],
   "source": [
    "#let's put the target variable into Y\n",
    "y=df['Class']"
   ]
  },
  {
   "cell_type": "code",
   "execution_count": 30,
   "metadata": {},
   "outputs": [
    {
     "name": "stdout",
     "output_type": "stream",
     "text": [
      "TRAIN: [129141  91689 118805 ... 249655  69488 188068] TEST: [ 32603  71580 144362 ... 120664 260883 146701]\n",
      "TRAIN: [179661 129498 253513 ... 261021 275137 199709] TEST: [ 30193  96420  28988 ... 159837 243770  87245]\n",
      "TRAIN: [ 55609 250907 105943 ...  96700  41174 261733] TEST: [ 97330 182828 138896 ... 103047 280031 252278]\n",
      "TRAIN: [160541 270383   7914 ... 119570 142561 116811] TEST: [199984 152508 204491 ... 203781  88156  52492]\n"
     ]
    }
   ],
   "source": [
    "from sklearn.model_selection import StratifiedShuffleSplit\n",
    "# Splitting the data into Train and Test set\n",
    "kfold = 4\n",
    "sss = StratifiedShuffleSplit(n_splits=kfold, test_size=0.3, random_state=9487)\n",
    "for train_index, test_index in sss.split(X, y):\n",
    "        print(\"TRAIN:\", train_index, \"TEST:\", test_index)\n",
    "        X_train, X_test = X.iloc, X.iloc\n",
    "        y_train, y_test = y[train_index], y[test_index]\n"
   ]
  },
  {
   "cell_type": "code",
   "execution_count": 31,
   "metadata": {},
   "outputs": [
    {
     "data": {
      "text/plain": [
       "Text(0, 0.5, 'Count')"
      ]
     },
     "execution_count": 31,
     "metadata": {},
     "output_type": "execute_result"
    },
    {
     "data": {
      "image/png": "[encoded data removed]",
      "text/plain": [
       "<Figure size 720x576 with 1 Axes>"
      ]
     },
     "metadata": {
      "needs_background": "light"
     },
     "output_type": "display_data"
    }
   ],
   "source": [
    "# Checking Skewness of data\n",
    "\n",
    "plt.rcParams['figure.figsize'] = [10,8]\n",
    "plt.hist(df['Amount'],edgecolor='k',bins = 5)\n",
    "plt.title('Transaction Amount')\n",
    "plt.xlabel('Amount in USD') \n",
    "plt.ylabel('Count')"
   ]
  },
  {
   "cell_type": "code",
   "execution_count": 32,
   "metadata": {},
   "outputs": [],
   "source": [
    "from sklearn import preprocessing\n",
    "from sklearn.preprocessing import PowerTransformer"
   ]
  },
  {
   "cell_type": "code",
   "execution_count": 34,
   "metadata": {},
   "outputs": [],
   "source": [
    "pt = preprocessing.PowerTransformer(copy=False)\n",
    "PWTR_X = pt.fit_transform(X)"
   ]
  },
  {
   "cell_type": "markdown",
   "metadata": {},
   "source": [
    "### Building a Logistic Model"
   ]
  },
  {
   "cell_type": "markdown",
   "metadata": {},
   "source": [
    "Here,instead of Accuracy we are very much interested in the recall score, because that is the metric that will help us try to capture the most fraudulent transactions. Increase of Recall comes at a price of Precision. In this case predicting a transaction fradulant which actually is not is not a big concern.\n",
    "\n"
   ]
  },
  {
   "cell_type": "markdown",
   "metadata": {},
   "source": [
    "#### Imbalanced Data Set"
   ]
  },
  {
   "cell_type": "markdown",
   "metadata": {},
   "source": [
    "##### Logistic Regression"
   ]
  },
  {
   "cell_type": "markdown",
   "metadata": {},
   "source": [
    "#### Model 1 : Logistic Regression on Imbalanced Data\n"
   ]
  },
  {
   "cell_type": "code",
   "execution_count": 36,
   "metadata": {},
   "outputs": [
    {
     "name": "stdout",
     "output_type": "stream",
     "text": [
      "TRAIN: [129141  91689 118805 ... 249655  69488 188068] TEST: [ 32603  71580 144362 ... 120664 260883 146701]\n",
      "TRAIN: [179661 129498 253513 ... 261021 275137 199709] TEST: [ 30193  96420  28988 ... 159837 243770  87245]\n",
      "TRAIN: [ 55609 250907 105943 ...  96700  41174 261733] TEST: [ 97330 182828 138896 ... 103047 280031 252278]\n",
      "TRAIN: [160541 270383   7914 ... 119570 142561 116811] TEST: [199984 152508 204491 ... 203781  88156  52492]\n"
     ]
    }
   ],
   "source": [
    "# let's split the dataset into test and train sets in 70:30 ratio after applying Power Transform\n",
    "\n",
    "kfold = 4\n",
    "sss = StratifiedShuffleSplit(n_splits=kfold, test_size=0.3, random_state=9487)\n",
    "for train_index, test_index in sss.split(PWTR_X, y):\n",
    "        print(\"TRAIN:\", train_index, \"TEST:\", test_index)\n",
    "        X_train, X_test = PWTR_X[train_index], PWTR_X[test_index]\n",
    "        y_train, y_test = y[train_index], y[test_index]"
   ]
  },
  {
   "cell_type": "code",
   "execution_count": 37,
   "metadata": {},
   "outputs": [
    {
     "data": {
      "text/plain": [
       "LogisticRegression()"
      ]
     },
     "execution_count": 37,
     "metadata": {},
     "output_type": "execute_result"
    }
   ],
   "source": [
    "from sklearn.linear_model import LogisticRegression\n",
    "\n",
    "# let's fit a logistic regression model to train data\n",
    "model_lr = LogisticRegression()\n",
    "model_lr.fit(X_train, y_train)"
   ]
  },
  {
   "cell_type": "code",
   "execution_count": 38,
   "metadata": {},
   "outputs": [],
   "source": [
    "# Predict on test data\n",
    "y_predicted = model_lr.predict(X_test)"
   ]
  },
  {
   "cell_type": "code",
   "execution_count": 39,
   "metadata": {},
   "outputs": [
    {
     "name": "stdout",
     "output_type": "stream",
     "text": [
      "Classification report:\n",
      "               precision    recall  f1-score   support\n",
      "\n",
      "           0       1.00      1.00      1.00     85295\n",
      "           1       0.86      0.60      0.71       148\n",
      "\n",
      "    accuracy                           1.00     85443\n",
      "   macro avg       0.93      0.80      0.85     85443\n",
      "weighted avg       1.00      1.00      1.00     85443\n",
      "\n",
      "Confusion matrix:\n",
      " [[85280    15]\n",
      " [   59    89]]\n",
      "Logistic Regression Accuracy:  0.999133925541004\n",
      "ROC AUC :  0.8005877455508148\n"
     ]
    }
   ],
   "source": [
    "# Evaluation Metrics\n",
    "\n",
    "print('Classification report:\\n', classification_report(y_test, y_predicted))\n",
    "print('Confusion matrix:\\n',confusion_matrix(y_true = y_test, y_pred = y_predicted))\n",
    "print(\"Logistic Regression Accuracy: \",accuracy_score(y_test,y_predicted))\n",
    "print('ROC AUC : ', roc_auc_score(y_test, y_predicted))"
   ]
  },
  {
   "cell_type": "code",
   "execution_count": 40,
   "metadata": {},
   "outputs": [],
   "source": [
    "# Function for roc_curve\n",
    "def plot_roc_curve(fpr,tpr,roc_auc):\n",
    "    plt.plot(fpr, tpr, linewidth=5, label='AUC = %0.3f'% roc_auc)\n",
    "    plt.plot([0,1],[0,1], linewidth=5)\n",
    "    plt.xlim([-0.01, 1])\n",
    "    plt.ylim([0, 1.01])\n",
    "    plt.legend(loc='upper right')\n",
    "    plt.title('Receiver operating characteristic curve (ROC)')\n",
    "    plt.ylabel('True Positive Rate')\n",
    "    plt.xlabel('False Positive Rate')\n",
    "    plt.show()"
   ]
  },
  {
   "cell_type": "code",
   "execution_count": 41,
   "metadata": {},
   "outputs": [],
   "source": [
    "# tpr and fpr\n",
    "fpr, tpr, threshold = roc_curve(y_test, y_predicted)\n",
    "roc_auc = roc_auc_score(y_test, y_predicted)"
   ]
  },
  {
   "cell_type": "code",
   "execution_count": 42,
   "metadata": {},
   "outputs": [
    {
     "data": {
      "image/png": "[encoded data removed]",
      "text/plain": [
       "<Figure size 432x432 with 1 Axes>"
      ]
     },
     "metadata": {
      "needs_background": "light"
     },
     "output_type": "display_data"
    }
   ],
   "source": [
    "# Plotting the roc curve \n",
    "plt.rcParams['figure.figsize'] = [6,6]\n",
    "plot_roc_curve(fpr,tpr,roc_auc)"
   ]
  },
  {
   "cell_type": "markdown",
   "metadata": {},
   "source": [
    "Precision : 0.86\n",
    "Recall : 0.60\n",
    "F1-score : 0.70\n",
    "Accuracy : 0.85\n",
    "ROC AUC : 0.80"
   ]
  },
  {
   "cell_type": "markdown",
   "metadata": {},
   "source": [
    "### Hyperparameter Tuning Logisitic Regression"
   ]
  },
  {
   "cell_type": "markdown",
   "metadata": {},
   "source": [
    "##### Model 2 : Logistic Regression on Imbalanced Data with K-Fold and Hypertuning"
   ]
  },
  {
   "cell_type": "code",
   "execution_count": 43,
   "metadata": {},
   "outputs": [],
   "source": [
    "from imblearn.metrics import sensitivity_specificity_support\n",
    "# Number of folds\n",
    "\n",
    "n_folds = 5\n",
    "# parameters \n",
    "params ={'C': [0.1, 0.5, 1, 2, 3, 4, 5, 10], 'penalty': ['l1', 'l2']}\n",
    "\n",
    "lrh = LogisticRegression()\n",
    "\n",
    "model_lrh = GridSearchCV(estimator=lrh, cv=n_folds, param_grid=params, scoring='roc_auc', n_jobs=-1, verbose=1)"
   ]
  },
  {
   "cell_type": "code",
   "execution_count": 44,
   "metadata": {},
   "outputs": [
    {
     "name": "stdout",
     "output_type": "stream",
     "text": [
      "Fitting 5 folds for each of 16 candidates, totalling 80 fits\n"
     ]
    },
    {
     "name": "stderr",
     "output_type": "stream",
     "text": [
      "[Parallel(n_jobs=-1)]: Using backend LokyBackend with 4 concurrent workers.\n",
      "[Parallel(n_jobs=-1)]: Done  42 tasks      | elapsed:   51.7s\n",
      "[Parallel(n_jobs=-1)]: Done  80 out of  80 | elapsed:  1.3min finished\n"
     ]
    },
    {
     "data": {
      "text/plain": [
       "GridSearchCV(cv=5, estimator=LogisticRegression(), n_jobs=-1,\n",
       "             param_grid={'C': [0.1, 0.5, 1, 2, 3, 4, 5, 10],\n",
       "                         'penalty': ['l1', 'l2']},\n",
       "             scoring='roc_auc', verbose=1)"
      ]
     },
     "execution_count": 44,
     "metadata": {},
     "output_type": "execute_result"
    }
   ],
   "source": [
    "# Fitting the model\n",
    "\n",
    "model_lrh.fit(X_train,y_train)"
   ]
  },
  {
   "cell_type": "code",
   "execution_count": 45,
   "metadata": {},
   "outputs": [
    {
     "data": {
      "text/html": [
       "<div>\n",
       "<style scoped>\n",
       "    .dataframe tbody tr th:only-of-type {\n",
       "        vertical-align: middle;\n",
       "    }\n",
       "\n",
       "    .dataframe tbody tr th {\n",
       "        vertical-align: top;\n",
       "    }\n",
       "\n",
       "    .dataframe thead th {\n",
       "        text-align: right;\n",
       "    }\n",
       "</style>\n",
       "<table border=\"1\" class=\"dataframe\">\n",
       "  <thead>\n",
       "    <tr style=\"text-align: right;\">\n",
       "      <th></th>\n",
       "      <th>mean_fit_time</th>\n",
       "      <th>std_fit_time</th>\n",
       "      <th>mean_score_time</th>\n",
       "      <th>std_score_time</th>\n",
       "      <th>param_C</th>\n",
       "      <th>param_penalty</th>\n",
       "      <th>params</th>\n",
       "      <th>split0_test_score</th>\n",
       "      <th>split1_test_score</th>\n",
       "      <th>split2_test_score</th>\n",
       "      <th>split3_test_score</th>\n",
       "      <th>split4_test_score</th>\n",
       "      <th>mean_test_score</th>\n",
       "      <th>std_test_score</th>\n",
       "      <th>rank_test_score</th>\n",
       "    </tr>\n",
       "  </thead>\n",
       "  <tbody>\n",
       "    <tr>\n",
       "      <td>0</td>\n",
       "      <td>0.5147</td>\n",
       "      <td>0.2379</td>\n",
       "      <td>0.0000</td>\n",
       "      <td>0.0000</td>\n",
       "      <td>0.1000</td>\n",
       "      <td>l1</td>\n",
       "      <td>{'C': 0.1, 'penalty': 'l1'}</td>\n",
       "      <td>nan</td>\n",
       "      <td>nan</td>\n",
       "      <td>nan</td>\n",
       "      <td>nan</td>\n",
       "      <td>nan</td>\n",
       "      <td>nan</td>\n",
       "      <td>nan</td>\n",
       "      <td>9</td>\n",
       "    </tr>\n",
       "    <tr>\n",
       "      <td>1</td>\n",
       "      <td>3.7054</td>\n",
       "      <td>0.5985</td>\n",
       "      <td>0.0411</td>\n",
       "      <td>0.0076</td>\n",
       "      <td>0.1000</td>\n",
       "      <td>l2</td>\n",
       "      <td>{'C': 0.1, 'penalty': 'l2'}</td>\n",
       "      <td>0.9696</td>\n",
       "      <td>0.9926</td>\n",
       "      <td>0.9882</td>\n",
       "      <td>0.9777</td>\n",
       "      <td>0.9740</td>\n",
       "      <td>0.9804</td>\n",
       "      <td>0.0086</td>\n",
       "      <td>1</td>\n",
       "    </tr>\n",
       "    <tr>\n",
       "      <td>2</td>\n",
       "      <td>0.1656</td>\n",
       "      <td>0.0076</td>\n",
       "      <td>0.0000</td>\n",
       "      <td>0.0000</td>\n",
       "      <td>0.5000</td>\n",
       "      <td>l1</td>\n",
       "      <td>{'C': 0.5, 'penalty': 'l1'}</td>\n",
       "      <td>nan</td>\n",
       "      <td>nan</td>\n",
       "      <td>nan</td>\n",
       "      <td>nan</td>\n",
       "      <td>nan</td>\n",
       "      <td>nan</td>\n",
       "      <td>nan</td>\n",
       "      <td>10</td>\n",
       "    </tr>\n",
       "    <tr>\n",
       "      <td>3</td>\n",
       "      <td>2.4351</td>\n",
       "      <td>0.1323</td>\n",
       "      <td>0.0372</td>\n",
       "      <td>0.0079</td>\n",
       "      <td>0.5000</td>\n",
       "      <td>l2</td>\n",
       "      <td>{'C': 0.5, 'penalty': 'l2'}</td>\n",
       "      <td>0.9700</td>\n",
       "      <td>0.9921</td>\n",
       "      <td>0.9864</td>\n",
       "      <td>0.9776</td>\n",
       "      <td>0.9734</td>\n",
       "      <td>0.9799</td>\n",
       "      <td>0.0082</td>\n",
       "      <td>2</td>\n",
       "    </tr>\n",
       "    <tr>\n",
       "      <td>4</td>\n",
       "      <td>0.1945</td>\n",
       "      <td>0.0379</td>\n",
       "      <td>0.0000</td>\n",
       "      <td>0.0000</td>\n",
       "      <td>1</td>\n",
       "      <td>l1</td>\n",
       "      <td>{'C': 1, 'penalty': 'l1'}</td>\n",
       "      <td>nan</td>\n",
       "      <td>nan</td>\n",
       "      <td>nan</td>\n",
       "      <td>nan</td>\n",
       "      <td>nan</td>\n",
       "      <td>nan</td>\n",
       "      <td>nan</td>\n",
       "      <td>11</td>\n",
       "    </tr>\n",
       "    <tr>\n",
       "      <td>5</td>\n",
       "      <td>3.3912</td>\n",
       "      <td>0.1908</td>\n",
       "      <td>0.0505</td>\n",
       "      <td>0.0140</td>\n",
       "      <td>1</td>\n",
       "      <td>l2</td>\n",
       "      <td>{'C': 1, 'penalty': 'l2'}</td>\n",
       "      <td>0.9701</td>\n",
       "      <td>0.9920</td>\n",
       "      <td>0.9861</td>\n",
       "      <td>0.9776</td>\n",
       "      <td>0.9733</td>\n",
       "      <td>0.9798</td>\n",
       "      <td>0.0081</td>\n",
       "      <td>3</td>\n",
       "    </tr>\n",
       "    <tr>\n",
       "      <td>6</td>\n",
       "      <td>0.1858</td>\n",
       "      <td>0.0104</td>\n",
       "      <td>0.0000</td>\n",
       "      <td>0.0000</td>\n",
       "      <td>2</td>\n",
       "      <td>l1</td>\n",
       "      <td>{'C': 2, 'penalty': 'l1'}</td>\n",
       "      <td>nan</td>\n",
       "      <td>nan</td>\n",
       "      <td>nan</td>\n",
       "      <td>nan</td>\n",
       "      <td>nan</td>\n",
       "      <td>nan</td>\n",
       "      <td>nan</td>\n",
       "      <td>12</td>\n",
       "    </tr>\n",
       "    <tr>\n",
       "      <td>7</td>\n",
       "      <td>3.9208</td>\n",
       "      <td>0.2114</td>\n",
       "      <td>0.0502</td>\n",
       "      <td>0.0234</td>\n",
       "      <td>2</td>\n",
       "      <td>l2</td>\n",
       "      <td>{'C': 2, 'penalty': 'l2'}</td>\n",
       "      <td>0.9701</td>\n",
       "      <td>0.9920</td>\n",
       "      <td>0.9860</td>\n",
       "      <td>0.9776</td>\n",
       "      <td>0.9732</td>\n",
       "      <td>0.9798</td>\n",
       "      <td>0.0081</td>\n",
       "      <td>4</td>\n",
       "    </tr>\n",
       "    <tr>\n",
       "      <td>8</td>\n",
       "      <td>0.2407</td>\n",
       "      <td>0.0378</td>\n",
       "      <td>0.0000</td>\n",
       "      <td>0.0000</td>\n",
       "      <td>3</td>\n",
       "      <td>l1</td>\n",
       "      <td>{'C': 3, 'penalty': 'l1'}</td>\n",
       "      <td>nan</td>\n",
       "      <td>nan</td>\n",
       "      <td>nan</td>\n",
       "      <td>nan</td>\n",
       "      <td>nan</td>\n",
       "      <td>nan</td>\n",
       "      <td>nan</td>\n",
       "      <td>13</td>\n",
       "    </tr>\n",
       "    <tr>\n",
       "      <td>9</td>\n",
       "      <td>3.9370</td>\n",
       "      <td>0.2873</td>\n",
       "      <td>0.0816</td>\n",
       "      <td>0.0346</td>\n",
       "      <td>3</td>\n",
       "      <td>l2</td>\n",
       "      <td>{'C': 3, 'penalty': 'l2'}</td>\n",
       "      <td>0.9702</td>\n",
       "      <td>0.9920</td>\n",
       "      <td>0.9859</td>\n",
       "      <td>0.9776</td>\n",
       "      <td>0.9732</td>\n",
       "      <td>0.9798</td>\n",
       "      <td>0.0081</td>\n",
       "      <td>5</td>\n",
       "    </tr>\n",
       "    <tr>\n",
       "      <td>10</td>\n",
       "      <td>0.2260</td>\n",
       "      <td>0.0593</td>\n",
       "      <td>0.0000</td>\n",
       "      <td>0.0000</td>\n",
       "      <td>4</td>\n",
       "      <td>l1</td>\n",
       "      <td>{'C': 4, 'penalty': 'l1'}</td>\n",
       "      <td>nan</td>\n",
       "      <td>nan</td>\n",
       "      <td>nan</td>\n",
       "      <td>nan</td>\n",
       "      <td>nan</td>\n",
       "      <td>nan</td>\n",
       "      <td>nan</td>\n",
       "      <td>14</td>\n",
       "    </tr>\n",
       "    <tr>\n",
       "      <td>11</td>\n",
       "      <td>4.0831</td>\n",
       "      <td>0.0853</td>\n",
       "      <td>0.0520</td>\n",
       "      <td>0.0118</td>\n",
       "      <td>4</td>\n",
       "      <td>l2</td>\n",
       "      <td>{'C': 4, 'penalty': 'l2'}</td>\n",
       "      <td>0.9702</td>\n",
       "      <td>0.9920</td>\n",
       "      <td>0.9859</td>\n",
       "      <td>0.9776</td>\n",
       "      <td>0.9732</td>\n",
       "      <td>0.9798</td>\n",
       "      <td>0.0081</td>\n",
       "      <td>6</td>\n",
       "    </tr>\n",
       "    <tr>\n",
       "      <td>12</td>\n",
       "      <td>0.2388</td>\n",
       "      <td>0.0548</td>\n",
       "      <td>0.0000</td>\n",
       "      <td>0.0000</td>\n",
       "      <td>5</td>\n",
       "      <td>l1</td>\n",
       "      <td>{'C': 5, 'penalty': 'l1'}</td>\n",
       "      <td>nan</td>\n",
       "      <td>nan</td>\n",
       "      <td>nan</td>\n",
       "      <td>nan</td>\n",
       "      <td>nan</td>\n",
       "      <td>nan</td>\n",
       "      <td>nan</td>\n",
       "      <td>15</td>\n",
       "    </tr>\n",
       "    <tr>\n",
       "      <td>13</td>\n",
       "      <td>3.7862</td>\n",
       "      <td>0.1069</td>\n",
       "      <td>0.0633</td>\n",
       "      <td>0.0407</td>\n",
       "      <td>5</td>\n",
       "      <td>l2</td>\n",
       "      <td>{'C': 5, 'penalty': 'l2'}</td>\n",
       "      <td>0.9702</td>\n",
       "      <td>0.9920</td>\n",
       "      <td>0.9859</td>\n",
       "      <td>0.9776</td>\n",
       "      <td>0.9732</td>\n",
       "      <td>0.9798</td>\n",
       "      <td>0.0081</td>\n",
       "      <td>7</td>\n",
       "    </tr>\n",
       "    <tr>\n",
       "      <td>14</td>\n",
       "      <td>0.2886</td>\n",
       "      <td>0.0623</td>\n",
       "      <td>0.0000</td>\n",
       "      <td>0.0000</td>\n",
       "      <td>10</td>\n",
       "      <td>l1</td>\n",
       "      <td>{'C': 10, 'penalty': 'l1'}</td>\n",
       "      <td>nan</td>\n",
       "      <td>nan</td>\n",
       "      <td>nan</td>\n",
       "      <td>nan</td>\n",
       "      <td>nan</td>\n",
       "      <td>nan</td>\n",
       "      <td>nan</td>\n",
       "      <td>16</td>\n",
       "    </tr>\n",
       "    <tr>\n",
       "      <td>15</td>\n",
       "      <td>3.5527</td>\n",
       "      <td>0.2598</td>\n",
       "      <td>0.0470</td>\n",
       "      <td>0.0233</td>\n",
       "      <td>10</td>\n",
       "      <td>l2</td>\n",
       "      <td>{'C': 10, 'penalty': 'l2'}</td>\n",
       "      <td>0.9702</td>\n",
       "      <td>0.9920</td>\n",
       "      <td>0.9858</td>\n",
       "      <td>0.9776</td>\n",
       "      <td>0.9732</td>\n",
       "      <td>0.9797</td>\n",
       "      <td>0.0081</td>\n",
       "      <td>8</td>\n",
       "    </tr>\n",
       "  </tbody>\n",
       "</table>\n",
       "</div>"
      ],
      "text/plain": [
       "    mean_fit_time  std_fit_time  mean_score_time  std_score_time param_C  \\\n",
       "0  0.5147         0.2379        0.0000           0.0000          0.1000    \n",
       "1  3.7054         0.5985        0.0411           0.0076          0.1000    \n",
       "2  0.1656         0.0076        0.0000           0.0000          0.5000    \n",
       "3  2.4351         0.1323        0.0372           0.0079          0.5000    \n",
       "4  0.1945         0.0379        0.0000           0.0000           1        \n",
       "5  3.3912         0.1908        0.0505           0.0140           1        \n",
       "6  0.1858         0.0104        0.0000           0.0000           2        \n",
       "7  3.9208         0.2114        0.0502           0.0234           2        \n",
       "8  0.2407         0.0378        0.0000           0.0000           3        \n",
       "9  3.9370         0.2873        0.0816           0.0346           3        \n",
       "10 0.2260         0.0593        0.0000           0.0000           4        \n",
       "11 4.0831         0.0853        0.0520           0.0118           4        \n",
       "12 0.2388         0.0548        0.0000           0.0000           5        \n",
       "13 3.7862         0.1069        0.0633           0.0407           5        \n",
       "14 0.2886         0.0623        0.0000           0.0000           10       \n",
       "15 3.5527         0.2598        0.0470           0.0233           10       \n",
       "\n",
       "   param_penalty                       params  split0_test_score  \\\n",
       "0   l1            {'C': 0.1, 'penalty': 'l1'} nan                  \n",
       "1   l2            {'C': 0.1, 'penalty': 'l2'} 0.9696               \n",
       "2   l1            {'C': 0.5, 'penalty': 'l1'} nan                  \n",
       "3   l2            {'C': 0.5, 'penalty': 'l2'} 0.9700               \n",
       "4   l1            {'C': 1, 'penalty': 'l1'}   nan                  \n",
       "5   l2            {'C': 1, 'penalty': 'l2'}   0.9701               \n",
       "6   l1            {'C': 2, 'penalty': 'l1'}   nan                  \n",
       "7   l2            {'C': 2, 'penalty': 'l2'}   0.9701               \n",
       "8   l1            {'C': 3, 'penalty': 'l1'}   nan                  \n",
       "9   l2            {'C': 3, 'penalty': 'l2'}   0.9702               \n",
       "10  l1            {'C': 4, 'penalty': 'l1'}   nan                  \n",
       "11  l2            {'C': 4, 'penalty': 'l2'}   0.9702               \n",
       "12  l1            {'C': 5, 'penalty': 'l1'}   nan                  \n",
       "13  l2            {'C': 5, 'penalty': 'l2'}   0.9702               \n",
       "14  l1            {'C': 10, 'penalty': 'l1'}  nan                  \n",
       "15  l2            {'C': 10, 'penalty': 'l2'}  0.9702               \n",
       "\n",
       "    split1_test_score  split2_test_score  split3_test_score  \\\n",
       "0  nan                nan                nan                  \n",
       "1  0.9926             0.9882             0.9777               \n",
       "2  nan                nan                nan                  \n",
       "3  0.9921             0.9864             0.9776               \n",
       "4  nan                nan                nan                  \n",
       "5  0.9920             0.9861             0.9776               \n",
       "6  nan                nan                nan                  \n",
       "7  0.9920             0.9860             0.9776               \n",
       "8  nan                nan                nan                  \n",
       "9  0.9920             0.9859             0.9776               \n",
       "10 nan                nan                nan                  \n",
       "11 0.9920             0.9859             0.9776               \n",
       "12 nan                nan                nan                  \n",
       "13 0.9920             0.9859             0.9776               \n",
       "14 nan                nan                nan                  \n",
       "15 0.9920             0.9858             0.9776               \n",
       "\n",
       "    split4_test_score  mean_test_score  std_test_score  rank_test_score  \n",
       "0  nan                nan              nan              9                \n",
       "1  0.9740             0.9804           0.0086           1                \n",
       "2  nan                nan              nan              10               \n",
       "3  0.9734             0.9799           0.0082           2                \n",
       "4  nan                nan              nan              11               \n",
       "5  0.9733             0.9798           0.0081           3                \n",
       "6  nan                nan              nan              12               \n",
       "7  0.9732             0.9798           0.0081           4                \n",
       "8  nan                nan              nan              13               \n",
       "9  0.9732             0.9798           0.0081           5                \n",
       "10 nan                nan              nan              14               \n",
       "11 0.9732             0.9798           0.0081           6                \n",
       "12 nan                nan              nan              15               \n",
       "13 0.9732             0.9798           0.0081           7                \n",
       "14 nan                nan              nan              16               \n",
       "15 0.9732             0.9797           0.0081           8                "
      ]
     },
     "execution_count": 45,
     "metadata": {},
     "output_type": "execute_result"
    }
   ],
   "source": [
    "pd.DataFrame(model_lrh.cv_results_)"
   ]
  },
  {
   "cell_type": "code",
   "execution_count": 46,
   "metadata": {},
   "outputs": [
    {
     "name": "stdout",
     "output_type": "stream",
     "text": [
      "Logistic Regression with PCA Best AUC :  0.9804184472371569\n",
      "Logistic Regression with PCA Best hyperparameters:  {'C': 0.1, 'penalty': 'l2'}\n"
     ]
    }
   ],
   "source": [
    "print(\"Logistic Regression with PCA Best AUC : \", model_lrh.best_score_)\n",
    "print(\"Logistic Regression with PCA Best hyperparameters: \", model_lrh.best_params_)"
   ]
  },
  {
   "cell_type": "code",
   "execution_count": 47,
   "metadata": {},
   "outputs": [],
   "source": [
    "# Passing the best parameteres\n",
    "model_lrh_tuned = LogisticRegression(penalty='l2',C=0.1)"
   ]
  },
  {
   "cell_type": "code",
   "execution_count": 48,
   "metadata": {},
   "outputs": [],
   "source": [
    "# Predicting on test data\n",
    "\n",
    "model_lrh_tuned.fit(X_train,y_train)\n",
    "y_predicted = model_lrh_tuned.predict(X_test)"
   ]
  },
  {
   "cell_type": "code",
   "execution_count": 49,
   "metadata": {},
   "outputs": [
    {
     "name": "stdout",
     "output_type": "stream",
     "text": [
      "Classification report:\n",
      "               precision    recall  f1-score   support\n",
      "\n",
      "           0       1.00      1.00      1.00     85295\n",
      "           1       0.85      0.59      0.70       148\n",
      "\n",
      "    accuracy                           1.00     85443\n",
      "   macro avg       0.93      0.79      0.85     85443\n",
      "weighted avg       1.00      1.00      1.00     85443\n",
      "\n",
      "Confusion matrix:\n",
      " [[85280    15]\n",
      " [   61    87]]\n",
      "Logistic Regression Accuracy:  0.9991105181231933\n",
      "ROC AUC :  0.7938309887940581\n"
     ]
    }
   ],
   "source": [
    "#Evaluation Metrices\n",
    "\n",
    "print('Classification report:\\n', classification_report(y_test, y_predicted))\n",
    "print('Confusion matrix:\\n',confusion_matrix(y_true = y_test, y_pred = y_predicted))\n",
    "print(\"Logistic Regression Accuracy: \",accuracy_score(y_test,y_predicted))\n",
    "print('ROC AUC : ', roc_auc_score(y_test, y_predicted))"
   ]
  },
  {
   "cell_type": "code",
   "execution_count": 50,
   "metadata": {},
   "outputs": [
    {
     "data": {
      "image/png": "[encoded data removed]",
      "text/plain": [
       "<Figure size 432x432 with 1 Axes>"
      ]
     },
     "metadata": {
      "needs_background": "light"
     },
     "output_type": "display_data"
    }
   ],
   "source": [
    "# Create true and false positive rates\n",
    "fpr, tpr, threshold = roc_curve(y_test, y_predicted)\n",
    "roc_auc = roc_auc_score(y_test, y_predicted)\n",
    "# Plot the roc curve \n",
    "plt.rcParams['figure.figsize'] = [6,6]\n",
    "plot_roc_curve(fpr,tpr,roc_auc)"
   ]
  },
  {
   "cell_type": "markdown",
   "metadata": {},
   "source": [
    "Precision : 0.85\n",
    "Recall : 0.59\n",
    "F1-score : 0.70\n",
    "Accuracy : 0.99\n",
    "ROC AUC : 0.79"
   ]
  },
  {
   "cell_type": "markdown",
   "metadata": {},
   "source": [
    "### Random Forest"
   ]
  },
  {
   "cell_type": "markdown",
   "metadata": {},
   "source": [
    "#### Model 3 : Random Forest on Imbalanced Data"
   ]
  },
  {
   "cell_type": "code",
   "execution_count": 51,
   "metadata": {},
   "outputs": [],
   "source": [
    "#Initializing Random forest and creating model\n",
    "\n",
    "from sklearn.ensemble import RandomForestClassifier\n",
    "model_rfc = RandomForestClassifier(n_jobs=-1, \n",
    "                             random_state=2018,\n",
    "                             criterion='gini',\n",
    "                             n_estimators=100,\n",
    "                             verbose=False)\n"
   ]
  },
  {
   "cell_type": "code",
   "execution_count": 52,
   "metadata": {},
   "outputs": [],
   "source": [
    "# Fitting the model on Train data and Predicting on Test data\n",
    "\n",
    "model_rfc.fit(X_train,y_train)\n",
    "y_predicted = model_rfc.predict(X_test)"
   ]
  },
  {
   "cell_type": "code",
   "execution_count": 53,
   "metadata": {},
   "outputs": [
    {
     "name": "stdout",
     "output_type": "stream",
     "text": [
      "Classification report:\n",
      "               precision    recall  f1-score   support\n",
      "\n",
      "           0       1.00      1.00      1.00     85295\n",
      "           1       0.94      0.70      0.80       148\n",
      "\n",
      "    accuracy                           1.00     85443\n",
      "   macro avg       0.97      0.85      0.90     85443\n",
      "weighted avg       1.00      1.00      1.00     85443\n",
      "\n",
      "Confusion matrix:\n",
      " [[85288     7]\n",
      " [   44   104]]\n",
      "Logistic Regression Accuracy:  0.999403110845827\n",
      "ROC AUC :  0.8513103172930829\n"
     ]
    }
   ],
   "source": [
    "# Evaluation Metrics\n",
    "\n",
    "print('Classification report:\\n', classification_report(y_test, y_predicted))\n",
    "print('Confusion matrix:\\n',confusion_matrix(y_true = y_test, y_pred = y_predicted))\n",
    "print(\"Logistic Regression Accuracy: \",accuracy_score(y_test,y_predicted))\n",
    "print('ROC AUC : ', roc_auc_score(y_test, y_predicted))"
   ]
  },
  {
   "cell_type": "code",
   "execution_count": 54,
   "metadata": {},
   "outputs": [
    {
     "data": {
      "image/png": "[encoded data removed]",
      "text/plain": [
       "<Figure size 432x432 with 1 Axes>"
      ]
     },
     "metadata": {
      "needs_background": "light"
     },
     "output_type": "display_data"
    }
   ],
   "source": [
    "# Create true and false positive rates\n",
    "fpr, tpr, threshold = roc_curve(y_test, y_predicted)\n",
    "roc_auc = roc_auc_score(y_test, y_predicted)\n",
    "# Plot the roc curve \n",
    "plt.rcParams['figure.figsize'] = [6,6]\n",
    "plot_roc_curve(fpr,tpr,roc_auc)"
   ]
  },
  {
   "cell_type": "markdown",
   "metadata": {},
   "source": [
    "Precision : 0.94\n",
    "Recall : 0.70\n",
    "F1-score : 0.80\n",
    "Accuracy : 0.99\n",
    "ROC AUC : 0.85"
   ]
  },
  {
   "cell_type": "markdown",
   "metadata": {},
   "source": [
    "### Hyperparameter Tuning Random Forest"
   ]
  },
  {
   "cell_type": "markdown",
   "metadata": {},
   "source": [
    "### Model 4 : Random Forest on Imbalanced Data with K-Fold and Hyperparamater Tuning"
   ]
  },
  {
   "cell_type": "code",
   "execution_count": 55,
   "metadata": {},
   "outputs": [],
   "source": [
    "from sklearn.model_selection import GridSearchCV\n",
    "from sklearn.model_selection import StratifiedKFold\n",
    "from sklearn.metrics import accuracy_score\n",
    "from sklearn.model_selection import RandomizedSearchCV"
   ]
  },
  {
   "cell_type": "code",
   "execution_count": 56,
   "metadata": {},
   "outputs": [],
   "source": [
    "# Defining Parameters\n",
    "params = { \n",
    "    'n_estimators': [200, 400],\n",
    "    'max_features': ['auto', 'sqrt', 'log2'],\n",
    "    'max_depth' : [4,5,6,7,8],\n",
    "    'criterion' :['gini', 'entropy']\n",
    "}"
   ]
  },
  {
   "cell_type": "code",
   "execution_count": 57,
   "metadata": {},
   "outputs": [],
   "source": [
    "# Stratified K Fold\n",
    "cross_val = StratifiedKFold(n_splits=3)\n",
    "index_iterator = cross_val.split(X_train, y_train)\n",
    "clf = RandomForestClassifier()\n",
    "clf_random = RandomizedSearchCV(estimator = clf, param_distributions = params, n_iter = 50, cv = cross_val,\n",
    "                                verbose=2, random_state=42, n_jobs = -1,scoring='roc_auc')\n"
   ]
  },
  {
   "cell_type": "code",
   "execution_count": 58,
   "metadata": {},
   "outputs": [],
   "source": [
    "# Fitting the model on train data\n",
    "# clf_random.fit(X_train, y_train)"
   ]
  },
  {
   "cell_type": "code",
   "execution_count": 59,
   "metadata": {},
   "outputs": [],
   "source": [
    "# Scores of RandomizedSearchCV\n",
    "#scores = clf_random.cv_results_\n",
    "#pd.DataFrame(scores).head()"
   ]
  },
  {
   "cell_type": "code",
   "execution_count": 60,
   "metadata": {},
   "outputs": [],
   "source": [
    "#print(clf_random.best_score_)\n",
    "#print(clf_random.best_params_)\n",
    "#print(clf_random.best_index_)"
   ]
  },
  {
   "cell_type": "code",
   "execution_count": 61,
   "metadata": {},
   "outputs": [],
   "source": [
    "# Passing the best parameteres based on Randomized Search CV\n",
    "model_rfc_tuned = RandomForestClassifier(bootstrap=True,\n",
    "                               class_weight={0:1, 1:12}, # 0: non-fraud , 1:fraud\n",
    "                               criterion='gini',\n",
    "                               max_depth=5,\n",
    "                               max_features='sqrt',\n",
    "                               min_samples_leaf=10,\n",
    "                               n_estimators=200,\n",
    "                               n_jobs=-1, \n",
    "                               random_state=5)"
   ]
  },
  {
   "cell_type": "code",
   "execution_count": 62,
   "metadata": {},
   "outputs": [],
   "source": [
    "# Fitting the model on Train data and Predicting on Test Data\n",
    "\n",
    "model_rfc_tuned.fit(X_train,y_train)\n",
    "y_predicted = model_rfc_tuned.predict(X_test)"
   ]
  },
  {
   "cell_type": "code",
   "execution_count": 63,
   "metadata": {},
   "outputs": [
    {
     "name": "stdout",
     "output_type": "stream",
     "text": [
      "Classification report:\n",
      "               precision    recall  f1-score   support\n",
      "\n",
      "           0       1.00      1.00      1.00     85295\n",
      "           1       0.81      0.71      0.76       148\n",
      "\n",
      "    accuracy                           1.00     85443\n",
      "   macro avg       0.91      0.85      0.88     85443\n",
      "weighted avg       1.00      1.00      1.00     85443\n",
      "\n",
      "Confusion matrix:\n",
      " [[85271    24]\n",
      " [   43   105]]\n",
      "Logistic Regression Accuracy:  0.9992158515033414\n",
      "ROC AUC :  0.8545890415299524\n"
     ]
    }
   ],
   "source": [
    "# Evaluation Metrices\n",
    "print('Classification report:\\n', classification_report(y_test, y_predicted))\n",
    "print('Confusion matrix:\\n',confusion_matrix(y_true = y_test, y_pred = y_predicted))\n",
    "print(\"Logistic Regression Accuracy: \",accuracy_score(y_test,y_predicted))\n",
    "print('ROC AUC : ', roc_auc_score(y_test, y_predicted))"
   ]
  },
  {
   "cell_type": "code",
   "execution_count": 64,
   "metadata": {},
   "outputs": [
    {
     "data": {
      "image/png": "[encoded data removed]",
      "text/plain": [
       "<Figure size 432x432 with 1 Axes>"
      ]
     },
     "metadata": {
      "needs_background": "light"
     },
     "output_type": "display_data"
    }
   ],
   "source": [
    "# Create true and false positive rates\n",
    "fpr, tpr, threshold = roc_curve(y_test, y_predicted)\n",
    "roc_auc = roc_auc_score(y_test, y_predicted)\n",
    "# Plot the roc curve \n",
    "plt.rcParams['figure.figsize'] = [6,6]\n",
    "plot_roc_curve(fpr,tpr,roc_auc)\n"
   ]
  },
  {
   "cell_type": "markdown",
   "metadata": {},
   "source": [
    "Precision : 0.81\n",
    "Recall : 0.71\n",
    "F1-score : 0.76\n",
    "Accuracy : 0.99\n",
    "ROC AUC : 0.85"
   ]
  },
  {
   "cell_type": "markdown",
   "metadata": {},
   "source": [
    "### XG Boost"
   ]
  },
  {
   "cell_type": "markdown",
   "metadata": {},
   "source": [
    "### Model 5 : XG Boost on Imbalanced Data"
   ]
  },
  {
   "cell_type": "code",
   "execution_count": 66,
   "metadata": {},
   "outputs": [],
   "source": [
    "#Initializing Random forest and creating model\n",
    "model_xgb = XGBClassifier()"
   ]
  },
  {
   "cell_type": "code",
   "execution_count": 67,
   "metadata": {},
   "outputs": [],
   "source": [
    "# Fitting the model on Train data and Predicting on Test data\n",
    "model_xgb.fit(X_train,y_train)\n",
    "y_predicted = model_xgb.predict(X_test)"
   ]
  },
  {
   "cell_type": "code",
   "execution_count": 68,
   "metadata": {},
   "outputs": [
    {
     "name": "stdout",
     "output_type": "stream",
     "text": [
      "Classification report:\n",
      "               precision    recall  f1-score   support\n",
      "\n",
      "           0       1.00      1.00      1.00     85295\n",
      "           1       0.95      0.74      0.83       148\n",
      "\n",
      "    accuracy                           1.00     85443\n",
      "   macro avg       0.97      0.87      0.92     85443\n",
      "weighted avg       1.00      1.00      1.00     85443\n",
      "\n",
      "Confusion matrix:\n",
      " [[85289     6]\n",
      " [   38   110]]\n",
      "Logistic Regression Accuracy:  0.9994850368081645\n",
      "ROC AUC :  0.8715864495716773\n"
     ]
    }
   ],
   "source": [
    "# Evaluation Metrices\n",
    "print('Classification report:\\n', classification_report(y_test, y_predicted))\n",
    "print('Confusion matrix:\\n',confusion_matrix(y_true = y_test, y_pred = y_predicted))\n",
    "print(\"Logistic Regression Accuracy: \",accuracy_score(y_test,y_predicted))\n",
    "print('ROC AUC : ', roc_auc_score(y_test, y_predicted))"
   ]
  },
  {
   "cell_type": "code",
   "execution_count": 69,
   "metadata": {},
   "outputs": [
    {
     "data": {
      "image/png": "[encoded data removed]",
      "text/plain": [
       "<Figure size 432x432 with 1 Axes>"
      ]
     },
     "metadata": {
      "needs_background": "light"
     },
     "output_type": "display_data"
    }
   ],
   "source": [
    "# Create true and false positive rates\n",
    "fpr, tpr, threshold = roc_curve(y_test, y_predicted)\n",
    "roc_auc = roc_auc_score(y_test, y_predicted)\n",
    "# Plot the roc curve \n",
    "plt.rcParams['figure.figsize'] = [6,6]\n",
    "plot_roc_curve(fpr,tpr,roc_auc)\n"
   ]
  },
  {
   "cell_type": "markdown",
   "metadata": {},
   "source": [
    "Precision : 0.95\n",
    "Recall : 0.74\n",
    "F1-score : 0.83\n",
    "Accuracy : 0.99\n",
    "ROC AUC : 0.87"
   ]
  },
  {
   "cell_type": "markdown",
   "metadata": {},
   "source": [
    "### Hyperparameter Tuning XGB"
   ]
  },
  {
   "cell_type": "markdown",
   "metadata": {},
   "source": [
    "### Model 6 : XGB on Imbalanced Data with K-Fold and Hyperparamater Tuning"
   ]
  },
  {
   "cell_type": "code",
   "execution_count": 70,
   "metadata": {},
   "outputs": [],
   "source": [
    "# Defining parameters\n",
    "params = {\n",
    "        'min_child_weight': [1, 5, 10],\n",
    "        'gamma': [0.5, 1, 1.5, 2, 5],\n",
    "        'subsample': [0.6, 0.8, 1.0],\n",
    "        'colsample_bytree': [0.6, 0.8, 1.0],\n",
    "        'max_depth': [3, 4, 5]\n",
    "        }"
   ]
  },
  {
   "cell_type": "code",
   "execution_count": 71,
   "metadata": {},
   "outputs": [],
   "source": [
    "# Stratified K Fold\n",
    "cross_val = StratifiedKFold(n_splits=5)\n",
    "index_iterator = cross_val.split(X_train, y_train)\n",
    "\n",
    "\n",
    "xgb_cross = XGBClassifier(learning_rate=0.02, n_estimators=100, objective='binary:logistic',\n",
    "                    silent=True, nthread=1) \n",
    "\n",
    "\n",
    "xgb_random = RandomizedSearchCV(estimator = xgb_cross, param_distributions = params, n_iter =30 , cv = cross_val,\n",
    "                                verbose=2, random_state=42, n_jobs = -1,scoring='roc_auc')"
   ]
  },
  {
   "cell_type": "code",
   "execution_count": 72,
   "metadata": {},
   "outputs": [],
   "source": [
    "# Fitting the model on train data\n",
    "#xgb_random.fit(X_train, y_train)"
   ]
  },
  {
   "cell_type": "code",
   "execution_count": 73,
   "metadata": {},
   "outputs": [],
   "source": [
    "# scores of RandomizedSearchCV\n",
    "#scores = xgb_random.cv_results_\n",
    "#pd.DataFrame(scores).head()"
   ]
  },
  {
   "cell_type": "code",
   "execution_count": 74,
   "metadata": {},
   "outputs": [],
   "source": [
    "#print(xgb_random.best_score_)\n",
    "#print(xgb_random.best_params_)\n",
    "#print(xgb_random.best_index_)"
   ]
  },
  {
   "cell_type": "code",
   "execution_count": 75,
   "metadata": {},
   "outputs": [],
   "source": [
    "# Passing the best parameteres based on Randomized Search CV\n",
    "model_xgb_tuned = XGBClassifier(min_child_weight= 5,\n",
    "        gamma= 1.5,\n",
    "        subsample= 1.0,\n",
    "        colsample_bytree= 0.6,\n",
    "        max_depth= 5)"
   ]
  },
  {
   "cell_type": "code",
   "execution_count": 76,
   "metadata": {},
   "outputs": [],
   "source": [
    "# Fitting the model on Train data and Predicting on Test data\n",
    "model_xgb_tuned.fit(X_train,y_train)\n",
    "y_predicted = model_xgb_tuned.predict(X_test)"
   ]
  },
  {
   "cell_type": "code",
   "execution_count": 77,
   "metadata": {},
   "outputs": [
    {
     "name": "stdout",
     "output_type": "stream",
     "text": [
      "Classification report:\n",
      "               precision    recall  f1-score   support\n",
      "\n",
      "           0       1.00      1.00      1.00     85295\n",
      "           1       0.95      0.72      0.82       148\n",
      "\n",
      "    accuracy                           1.00     85443\n",
      "   macro avg       0.98      0.86      0.91     85443\n",
      "weighted avg       1.00      1.00      1.00     85443\n",
      "\n",
      "Confusion matrix:\n",
      " [[85290     5]\n",
      " [   42   106]]\n",
      "Logistic Regression Accuracy:  0.9994499256814484\n",
      "ROC AUC :  0.8580787980664878\n"
     ]
    }
   ],
   "source": [
    "# Evaluation metrices\n",
    "print('Classification report:\\n', classification_report(y_test, y_predicted))\n",
    "print('Confusion matrix:\\n',confusion_matrix(y_true = y_test, y_pred = y_predicted))\n",
    "print(\"Logistic Regression Accuracy: \",accuracy_score(y_test,y_predicted))\n",
    "print('ROC AUC : ', roc_auc_score(y_test, y_predicted))"
   ]
  },
  {
   "cell_type": "code",
   "execution_count": 78,
   "metadata": {},
   "outputs": [
    {
     "data": {
      "image/png": "[encoded data removed]",
      "text/plain": [
       "<Figure size 432x432 with 1 Axes>"
      ]
     },
     "metadata": {
      "needs_background": "light"
     },
     "output_type": "display_data"
    }
   ],
   "source": [
    "# Create true and false positive rates\n",
    "fpr, tpr, threshold = roc_curve(y_test, y_predicted)\n",
    "roc_auc = roc_auc_score(y_test, y_predicted)\n",
    "# Plot the roc curve \n",
    "plt.rcParams['figure.figsize'] = [6,6]\n",
    "plot_roc_curve(fpr,tpr,roc_auc)"
   ]
  },
  {
   "cell_type": "markdown",
   "metadata": {},
   "source": [
    "Precision : 0.95\n",
    "Recall : 0.72\n",
    "F1-score : 0.82\n",
    "Accuracy : 0.99\n",
    "ROC AUC : 0.85"
   ]
  },
  {
   "cell_type": "markdown",
   "metadata": {},
   "source": [
    "### Balanced Data Set"
   ]
  },
  {
   "cell_type": "code",
   "execution_count": 79,
   "metadata": {},
   "outputs": [],
   "source": [
    "from imblearn.over_sampling import RandomOverSampler\n",
    "from imblearn.over_sampling import SMOTE\n",
    "from imblearn.over_sampling import ADASYN\n",
    "\n",
    "# Resample training data\n",
    "ros = RandomOverSampler()\n",
    "smote = SMOTE(random_state=5)\n",
    "adasyn = ADASYN(random_state=5)\n",
    "\n",
    "X_train_ros, y_train_ros = ros.fit_sample(X_train,y_train)\n",
    "X_train_smote, y_train_smote = smote.fit_sample(X_train,y_train)\n",
    "X_train_adasyn, y_train_adasyn =adasyn.fit_sample(X_train,y_train)"
   ]
  },
  {
   "cell_type": "markdown",
   "metadata": {},
   "source": [
    "### Logistic Regression"
   ]
  },
  {
   "cell_type": "markdown",
   "metadata": {},
   "source": [
    "### Model 7 : Logistic Regression on ROS Balanced Data\n"
   ]
  },
  {
   "cell_type": "code",
   "execution_count": 80,
   "metadata": {},
   "outputs": [],
   "source": [
    "# Fit a logistic regression model to our data\n",
    "from sklearn.linear_model import LogisticRegression\n",
    "\n",
    "model_lr = LogisticRegression()\n",
    "model_lr.fit(X_train_ros, y_train_ros)\n",
    "\n",
    "# Obtain model predictions\n",
    "y_predicted = model_lr.predict(X_test)\n"
   ]
  },
  {
   "cell_type": "code",
   "execution_count": 81,
   "metadata": {},
   "outputs": [
    {
     "name": "stdout",
     "output_type": "stream",
     "text": [
      "Classification report:\n",
      "               precision    recall  f1-score   support\n",
      "\n",
      "           0       1.00      0.98      0.99     85295\n",
      "           1       0.06      0.91      0.12       148\n",
      "\n",
      "    accuracy                           0.98     85443\n",
      "   macro avg       0.53      0.94      0.55     85443\n",
      "weighted avg       1.00      0.98      0.99     85443\n",
      "\n",
      "Confusion matrix:\n",
      " [[83274  2021]\n",
      " [   14   134]]\n",
      "Logistic Regression Accuracy:  0.9761829523776084\n",
      "ROC AUC :  0.9408555838797938\n"
     ]
    }
   ],
   "source": [
    "# Evaluation Metrics\n",
    "print('Classification report:\\n', classification_report(y_test, y_predicted))\n",
    "print('Confusion matrix:\\n',confusion_matrix(y_true = y_test, y_pred = y_predicted))\n",
    "print(\"Logistic Regression Accuracy: \",accuracy_score(y_test,y_predicted))\n",
    "print('ROC AUC : ', roc_auc_score(y_test, y_predicted))"
   ]
  },
  {
   "cell_type": "code",
   "execution_count": 82,
   "metadata": {},
   "outputs": [
    {
     "data": {
      "image/png": "[encoded data removed]",
      "text/plain": [
       "<Figure size 432x432 with 1 Axes>"
      ]
     },
     "metadata": {
      "needs_background": "light"
     },
     "output_type": "display_data"
    }
   ],
   "source": [
    "# Create true and false positive rates\n",
    "fpr, tpr, threshold = roc_curve(y_test, y_predicted)\n",
    "roc_auc = roc_auc_score(y_test, y_predicted)\n",
    "# Plot the roc curve \n",
    "plt.rcParams['figure.figsize'] = [6,6]\n",
    "plot_roc_curve(fpr,tpr,roc_auc)"
   ]
  },
  {
   "cell_type": "markdown",
   "metadata": {},
   "source": [
    "Precision : 0.06\n",
    "Recall : 0.91\n",
    "F1-score : 0.11\n",
    "Accuracy : 0.97\n",
    "ROC AUC : 0.94\n"
   ]
  },
  {
   "cell_type": "markdown",
   "metadata": {},
   "source": [
    "### Model 8 : Logistic Regression on SMOTE Balanced Data"
   ]
  },
  {
   "cell_type": "code",
   "execution_count": 83,
   "metadata": {},
   "outputs": [],
   "source": [
    "# Fit a logistic regression model to our data\n",
    "from sklearn.linear_model import LogisticRegression\n",
    "\n",
    "model_lr = LogisticRegression()\n",
    "model_lr.fit(X_train_smote, y_train_smote)\n",
    "\n",
    "# Obtain model predictions\n",
    "y_predicted = model_lr.predict(X_test)"
   ]
  },
  {
   "cell_type": "code",
   "execution_count": 84,
   "metadata": {},
   "outputs": [
    {
     "name": "stdout",
     "output_type": "stream",
     "text": [
      "Classification report:\n",
      "               precision    recall  f1-score   support\n",
      "\n",
      "           0       1.00      0.97      0.99     85295\n",
      "           1       0.06      0.91      0.11       148\n",
      "\n",
      "    accuracy                           0.97     85443\n",
      "   macro avg       0.53      0.94      0.55     85443\n",
      "weighted avg       1.00      0.97      0.99     85443\n",
      "\n",
      "Confusion matrix:\n",
      " [[83076  2219]\n",
      " [   14   134]]\n",
      "Logistic Regression Accuracy:  0.9738656180143488\n",
      "ROC AUC :  0.9396949062316317\n"
     ]
    }
   ],
   "source": [
    "# Evaluation Metrics\n",
    "print('Classification report:\\n', classification_report(y_test, y_predicted))\n",
    "print('Confusion matrix:\\n',confusion_matrix(y_true = y_test, y_pred = y_predicted))\n",
    "print(\"Logistic Regression Accuracy: \",accuracy_score(y_test,y_predicted))\n",
    "print('ROC AUC : ', roc_auc_score(y_test, y_predicted))"
   ]
  },
  {
   "cell_type": "code",
   "execution_count": 85,
   "metadata": {},
   "outputs": [
    {
     "data": {
      "image/png": "[encoded data removed]",
      "text/plain": [
       "<Figure size 432x432 with 1 Axes>"
      ]
     },
     "metadata": {
      "needs_background": "light"
     },
     "output_type": "display_data"
    }
   ],
   "source": [
    "# Create true and false positive rates\n",
    "fpr, tpr, threshold = roc_curve(y_test, y_predicted)\n",
    "roc_auc = roc_auc_score(y_test, y_predicted)\n",
    "# Plot the roc curve \n",
    "plt.rcParams['figure.figsize'] = [6,6]\n",
    "plot_roc_curve(fpr,tpr,roc_auc)"
   ]
  },
  {
   "cell_type": "markdown",
   "metadata": {},
   "source": [
    "Precision : 0.06\n",
    "Recall : 0.91\n",
    "F1-score : 0.11\n",
    "Accuracy : 0.97\n",
    "ROC AUC : 0.93"
   ]
  },
  {
   "cell_type": "markdown",
   "metadata": {},
   "source": [
    "### Model 9 : Logistic Regression on ADASYN Balanced Data"
   ]
  },
  {
   "cell_type": "code",
   "execution_count": 86,
   "metadata": {},
   "outputs": [],
   "source": [
    "# Fit a logistic regression model to our data\n",
    "from sklearn.linear_model import LogisticRegression\n",
    "\n",
    "model_lr = LogisticRegression()\n",
    "model_lr.fit(X_train_adasyn, y_train_adasyn)\n",
    "\n",
    "# Obtain model predictions\n",
    "y_predicted = model_lr.predict(X_test)\n"
   ]
  },
  {
   "cell_type": "code",
   "execution_count": 87,
   "metadata": {},
   "outputs": [
    {
     "name": "stdout",
     "output_type": "stream",
     "text": [
      "Classification report:\n",
      "               precision    recall  f1-score   support\n",
      "\n",
      "           0       1.00      0.92      0.96     85295\n",
      "           1       0.02      0.91      0.04       148\n",
      "\n",
      "    accuracy                           0.92     85443\n",
      "   macro avg       0.51      0.91      0.50     85443\n",
      "weighted avg       1.00      0.92      0.95     85443\n",
      "\n",
      "Confusion matrix:\n",
      " [[78046  7249]\n",
      " [   13   135]]\n",
      "Logistic Regression Accuracy:  0.915007665929333\n",
      "ROC AUC :  0.9135873827400295\n"
     ]
    }
   ],
   "source": [
    "# Evaluation Metrics\n",
    "print('Classification report:\\n', classification_report(y_test, y_predicted))\n",
    "print('Confusion matrix:\\n',confusion_matrix(y_true = y_test, y_pred = y_predicted))\n",
    "print(\"Logistic Regression Accuracy: \",accuracy_score(y_test,y_predicted))\n",
    "print('ROC AUC : ', roc_auc_score(y_test, y_predicted))"
   ]
  },
  {
   "cell_type": "markdown",
   "metadata": {},
   "source": [
    "Precision : 0.02\n",
    "Recall : 0.91\n",
    "F1-score : 0.04\n",
    "Accuracy : 0.91\n",
    "ROC AUC : 0.91"
   ]
  },
  {
   "cell_type": "markdown",
   "metadata": {},
   "source": [
    "### Random Forest"
   ]
  },
  {
   "cell_type": "markdown",
   "metadata": {},
   "source": [
    "### Model 10 : Random Forest on ROS Balanced Data"
   ]
  },
  {
   "cell_type": "code",
   "execution_count": 89,
   "metadata": {},
   "outputs": [],
   "source": [
    "# Insantiate Model\n",
    "model_rfc = RandomForestClassifier(bootstrap=True,\n",
    "                               class_weight={0:1, 1:12}, # 0: non-fraud , 1:fraud\n",
    "                               criterion='entropy',\n",
    "                               max_depth=10, # Change depth of model\n",
    "                               min_samples_leaf=10, # Change the number of samples in leaf nodes\n",
    "                               n_estimators=20, # Change the number of trees to use\n",
    "                               n_jobs=-1, \n",
    "                               random_state=5)"
   ]
  },
  {
   "cell_type": "code",
   "execution_count": 90,
   "metadata": {},
   "outputs": [],
   "source": [
    "# Fit the model on train data and predict on test data \n",
    "model_rfc.fit(X_train_ros,y_train_ros)\n",
    "y_predicted = model_rfc.predict(X_test)"
   ]
  },
  {
   "cell_type": "code",
   "execution_count": 91,
   "metadata": {},
   "outputs": [
    {
     "name": "stdout",
     "output_type": "stream",
     "text": [
      "Classification report:\n",
      "               precision    recall  f1-score   support\n",
      "\n",
      "           0       1.00      1.00      1.00     85295\n",
      "           1       0.43      0.82      0.56       148\n",
      "\n",
      "    accuracy                           1.00     85443\n",
      "   macro avg       0.71      0.91      0.78     85443\n",
      "weighted avg       1.00      1.00      1.00     85443\n",
      "\n",
      "Confusion matrix:\n",
      " [[85132   163]\n",
      " [   27   121]]\n",
      "Logistic Regression Accuracy:  0.9977762953079831\n",
      "ROC AUC :  0.9078282764269634\n"
     ]
    }
   ],
   "source": [
    "# Evaluation Metrices\n",
    "print('Classification report:\\n', classification_report(y_test, y_predicted))\n",
    "print('Confusion matrix:\\n',confusion_matrix(y_true = y_test, y_pred = y_predicted))\n",
    "print(\"Logistic Regression Accuracy: \",accuracy_score(y_test,y_predicted))\n",
    "print('ROC AUC : ', roc_auc_score(y_test, y_predicted))"
   ]
  },
  {
   "cell_type": "markdown",
   "metadata": {},
   "source": [
    "Precision : 0.46\n",
    "Recall : 0.79\n",
    "F1-score : 0.58\n",
    "Accuracy : 0.99\n",
    "ROC AUC : 0.89"
   ]
  },
  {
   "cell_type": "markdown",
   "metadata": {},
   "source": [
    "### Model 11 : Random Forest on SMOTE Balanced Data"
   ]
  },
  {
   "cell_type": "code",
   "execution_count": 92,
   "metadata": {},
   "outputs": [],
   "source": [
    "# Fit the model on train data and predict on test data \n",
    "model_rfc.fit(X_train_smote,y_train_smote)\n",
    "y_predicted = model_rfc.predict(X_test)"
   ]
  },
  {
   "cell_type": "code",
   "execution_count": 93,
   "metadata": {},
   "outputs": [
    {
     "name": "stdout",
     "output_type": "stream",
     "text": [
      "Classification report:\n",
      "               precision    recall  f1-score   support\n",
      "\n",
      "           0       1.00      0.98      0.99     85295\n",
      "           1       0.06      0.84      0.12       148\n",
      "\n",
      "    accuracy                           0.98     85443\n",
      "   macro avg       0.53      0.91      0.55     85443\n",
      "weighted avg       1.00      0.98      0.99     85443\n",
      "\n",
      "Confusion matrix:\n",
      " [[83462  1833]\n",
      " [   23   125]]\n",
      "Logistic Regression Accuracy:  0.9782779162716665\n",
      "ROC AUC :  0.9115522360393103\n"
     ]
    }
   ],
   "source": [
    "# Evaluation Metrices\n",
    "print('Classification report:\\n', classification_report(y_test, y_predicted))\n",
    "print('Confusion matrix:\\n',confusion_matrix(y_true = y_test, y_pred = y_predicted))\n",
    "print(\"Logistic Regression Accuracy: \",accuracy_score(y_test,y_predicted))\n",
    "print('ROC AUC : ', roc_auc_score(y_test, y_predicted))"
   ]
  },
  {
   "cell_type": "markdown",
   "metadata": {},
   "source": [
    "Precision : 0.06\n",
    "Recall : 0.84\n",
    "F1-score : 0.12\n",
    "Accuracy : 0.97\n",
    "ROC AUC : 0.91"
   ]
  },
  {
   "cell_type": "markdown",
   "metadata": {},
   "source": [
    "### Model 12 : Random Forest on ADASYN Balanced Data"
   ]
  },
  {
   "cell_type": "code",
   "execution_count": 94,
   "metadata": {},
   "outputs": [],
   "source": [
    "# Fit the model on train data and predict on test data \n",
    "model_rfc.fit(X_train_adasyn,y_train_adasyn)\n",
    "y_predicted = model_rfc.predict(X_test)"
   ]
  },
  {
   "cell_type": "code",
   "execution_count": 95,
   "metadata": {},
   "outputs": [
    {
     "name": "stdout",
     "output_type": "stream",
     "text": [
      "Classification report:\n",
      "               precision    recall  f1-score   support\n",
      "\n",
      "           0       1.00      0.96      0.98     85295\n",
      "           1       0.03      0.84      0.06       148\n",
      "\n",
      "    accuracy                           0.95     85443\n",
      "   macro avg       0.52      0.90      0.52     85443\n",
      "weighted avg       1.00      0.95      0.98     85443\n",
      "\n",
      "Confusion matrix:\n",
      " [[81463  3832]\n",
      " [   24   124]]\n",
      "Logistic Regression Accuracy:  0.9548704984609623\n",
      "ROC AUC :  0.8964557030211523\n"
     ]
    }
   ],
   "source": [
    "# Evaluation Metrices\n",
    "print('Classification report:\\n', classification_report(y_test, y_predicted))\n",
    "print('Confusion matrix:\\n',confusion_matrix(y_true = y_test, y_pred = y_predicted))\n",
    "print(\"Logistic Regression Accuracy: \",accuracy_score(y_test,y_predicted))\n",
    "print('ROC AUC : ', roc_auc_score(y_test, y_predicted))"
   ]
  },
  {
   "cell_type": "markdown",
   "metadata": {},
   "source": [
    "Precision : 0.03\n",
    "Recall : 0.84\n",
    "F1-score : 0.06\n",
    "Accuracy : 0.95\n",
    "ROC AUC : 0.89"
   ]
  },
  {
   "cell_type": "markdown",
   "metadata": {},
   "source": [
    "Now ,Let's do a Hyperparameter tuning on ROS data as it gave a better Recall and Precision\n",
    "\n"
   ]
  },
  {
   "cell_type": "markdown",
   "metadata": {},
   "source": [
    "##### Hyperparameter Tuning Random Forest on ROS Data\n"
   ]
  },
  {
   "cell_type": "markdown",
   "metadata": {},
   "source": [
    "### Model 13 : Hyper Tuning model Random Forest on ROS Balanced Data"
   ]
  },
  {
   "cell_type": "code",
   "execution_count": 97,
   "metadata": {},
   "outputs": [],
   "source": [
    "params = { \n",
    "    'n_estimators': [200, 400],\n",
    "    'max_features': ['auto', 'sqrt', 'log2'],\n",
    "    'max_depth' : [4,5,6,7,8],\n",
    "    'criterion' :['gini', 'entropy']\n",
    "}"
   ]
  },
  {
   "cell_type": "code",
   "execution_count": 98,
   "metadata": {},
   "outputs": [],
   "source": [
    "cross_val = StratifiedKFold(n_splits=3)\n",
    "index_iterator = cross_val.split(X_train_ros, y_train_ros)\n",
    "clf = RandomForestClassifier()\n",
    "clf_random = RandomizedSearchCV(estimator = clf, param_distributions = params, n_iter = 50, cv = cross_val,\n",
    "                                verbose=2, random_state=42, n_jobs = -1,scoring='roc_auc')\n"
   ]
  },
  {
   "cell_type": "code",
   "execution_count": 99,
   "metadata": {},
   "outputs": [],
   "source": [
    "#clf_random.fit(X_train_ros, y_train_ros)"
   ]
  },
  {
   "cell_type": "code",
   "execution_count": 100,
   "metadata": {},
   "outputs": [],
   "source": [
    "# Scores of RandomizedSearchCV\n",
    "#scores = clf_random.cv_results_\n",
    "#pd.DataFrame(scores).head()"
   ]
  },
  {
   "cell_type": "code",
   "execution_count": 101,
   "metadata": {},
   "outputs": [],
   "source": [
    "#print(clf_random.best_score_)\n",
    "#print(clf_random.best_params_)\n",
    "#print(clf_random.best_index_)"
   ]
  },
  {
   "cell_type": "code",
   "execution_count": 102,
   "metadata": {},
   "outputs": [],
   "source": [
    "# Insanitiate Model on best params\n",
    "model_rfc_tuned = RandomForestClassifier(bootstrap=True,\n",
    "                               class_weight={0:1, 1:12}, \n",
    "                               criterion='entropy',\n",
    "                               max_depth=8, \n",
    "                               max_features='auto',\n",
    "                               n_estimators=200,\n",
    "                               n_jobs=-1)"
   ]
  },
  {
   "cell_type": "code",
   "execution_count": 103,
   "metadata": {},
   "outputs": [],
   "source": [
    "#Fit the model on train data and predict the model on test data\n",
    "model_rfc_tuned.fit(X_train_ros,y_train_ros)\n",
    "y_predicted = model_rfc_tuned.predict(X_test)"
   ]
  },
  {
   "cell_type": "code",
   "execution_count": 104,
   "metadata": {},
   "outputs": [
    {
     "name": "stdout",
     "output_type": "stream",
     "text": [
      "Classification report:\n",
      "               precision    recall  f1-score   support\n",
      "\n",
      "           0       1.00      1.00      1.00     85295\n",
      "           1       0.22      0.79      0.34       148\n",
      "\n",
      "    accuracy                           0.99     85443\n",
      "   macro avg       0.61      0.89      0.67     85443\n",
      "weighted avg       1.00      0.99      1.00     85443\n",
      "\n",
      "Confusion matrix:\n",
      " [[84881   414]\n",
      " [   31   117]]\n",
      "Logistic Regression Accuracy:  0.9947918495371183\n",
      "ROC AUC :  0.8928433988241129\n"
     ]
    }
   ],
   "source": [
    "# Evaluation Metrices\n",
    "print('Classification report:\\n', classification_report(y_test, y_predicted))\n",
    "print('Confusion matrix:\\n',confusion_matrix(y_true = y_test, y_pred = y_predicted))\n",
    "print(\"Logistic Regression Accuracy: \",accuracy_score(y_test,y_predicted))\n",
    "print('ROC AUC : ', roc_auc_score(y_test, y_predicted))"
   ]
  },
  {
   "cell_type": "markdown",
   "metadata": {},
   "source": [
    "Precision : 0.20\n",
    "Recall : 0.79\n",
    "F1-score : 0.32\n",
    "Accuracy : 0.99\n",
    "ROC AUC : 0.89"
   ]
  },
  {
   "cell_type": "markdown",
   "metadata": {},
   "source": [
    "### XG Boost"
   ]
  },
  {
   "cell_type": "markdown",
   "metadata": {},
   "source": [
    "#### Model 14 : XGB on ROS Balanced Data"
   ]
  },
  {
   "cell_type": "code",
   "execution_count": 106,
   "metadata": {},
   "outputs": [],
   "source": [
    "model_xgb_ros = XGBClassifier()"
   ]
  },
  {
   "cell_type": "code",
   "execution_count": 107,
   "metadata": {},
   "outputs": [],
   "source": [
    "#Fit the model on train data and predict the model on test data\n",
    "model_xgb_ros.fit(X_train_ros,y_train_ros)\n",
    "y_predicted = model_xgb_ros.predict(X_test)"
   ]
  },
  {
   "cell_type": "code",
   "execution_count": 108,
   "metadata": {},
   "outputs": [
    {
     "name": "stdout",
     "output_type": "stream",
     "text": [
      "Classification report:\n",
      "               precision    recall  f1-score   support\n",
      "\n",
      "           0       1.00      1.00      1.00     85295\n",
      "           1       0.93      0.76      0.84       148\n",
      "\n",
      "    accuracy                           1.00     85443\n",
      "   macro avg       0.97      0.88      0.92     85443\n",
      "weighted avg       1.00      1.00      1.00     85443\n",
      "\n",
      "Confusion matrix:\n",
      " [[85287     8]\n",
      " [   36   112]]\n",
      "Logistic Regression Accuracy:  0.9994850368081645\n",
      "ROC AUC :  0.878331482311786\n"
     ]
    }
   ],
   "source": [
    "# Evaluation Metrices\n",
    "print('Classification report:\\n', classification_report(y_test, y_predicted))\n",
    "print('Confusion matrix:\\n',confusion_matrix(y_true = y_test, y_pred = y_predicted))\n",
    "print(\"Logistic Regression Accuracy: \",accuracy_score(y_test,y_predicted))\n",
    "print('ROC AUC : ', roc_auc_score(y_test, y_predicted))"
   ]
  },
  {
   "cell_type": "markdown",
   "metadata": {},
   "source": [
    "Precision : 0.92\n",
    "Recall : 0.78\n",
    "F1-score : 0.84\n",
    "Accuracy : 0.99\n",
    "ROC AUC : 0.88"
   ]
  },
  {
   "cell_type": "markdown",
   "metadata": {},
   "source": [
    "### Hyperparameter Tuning on ROS Balanced data\n"
   ]
  },
  {
   "cell_type": "markdown",
   "metadata": {},
   "source": [
    "### Model 15 : Hyper Tuning XGB on ROS Balanced Data"
   ]
  },
  {
   "cell_type": "code",
   "execution_count": 109,
   "metadata": {},
   "outputs": [],
   "source": [
    "# A parameter grid for XGBoost\n",
    "params = {\n",
    "        'min_child_weight': [1, 5, 10],\n",
    "        'gamma': [0.5, 1, 1.5, 2, 5],\n",
    "        'subsample': [0.6, 0.8, 1.0],\n",
    "        'colsample_bytree': [0.6, 0.8, 1.0],\n",
    "        'max_depth': [3, 4, 5]\n",
    "        }"
   ]
  },
  {
   "cell_type": "code",
   "execution_count": 110,
   "metadata": {},
   "outputs": [],
   "source": [
    "cross_val = StratifiedKFold(n_splits=4)\n",
    "index_iterator = cross_val.split(X_train_ros, y_train_ros)\n",
    "\n",
    "\n",
    "xgb_cross = XGBClassifier(learning_rate=0.02, n_estimators=100, objective='binary:logistic',\n",
    "                    silent=True, nthread=1) \n",
    "\n",
    "\n",
    "xgb_random = RandomizedSearchCV(estimator = xgb_cross, param_distributions = params, n_iter =30 , cv = cross_val,\n",
    "                                verbose=2, random_state=42, n_jobs = -1,scoring='roc_auc')\n"
   ]
  },
  {
   "cell_type": "code",
   "execution_count": 111,
   "metadata": {},
   "outputs": [],
   "source": [
    "#xgb_random.fit(X_train_ros, y_train_ros)\n"
   ]
  },
  {
   "cell_type": "code",
   "execution_count": 112,
   "metadata": {},
   "outputs": [],
   "source": [
    "# scores of RandomizedSearchCV\n",
    "#scores = xgb_random.cv_results_\n",
    "#pd.DataFrame(scores).head()"
   ]
  },
  {
   "cell_type": "code",
   "execution_count": 113,
   "metadata": {},
   "outputs": [],
   "source": [
    "#print(xgb_random.best_score_)\n",
    "#print(xgb_random.best_params_)\n",
    "#print(xgb_random.best_index_)"
   ]
  },
  {
   "cell_type": "code",
   "execution_count": 114,
   "metadata": {},
   "outputs": [],
   "source": [
    "model_xgb_tuned_ros = XGBClassifier(min_child_weight= 5,\n",
    "        gamma= 1.5,\n",
    "        subsample= 1.0,\n",
    "        colsample_bytree= 0.6,\n",
    "        max_depth= 5)"
   ]
  },
  {
   "cell_type": "code",
   "execution_count": 115,
   "metadata": {},
   "outputs": [],
   "source": [
    "#Fit the model on train data and predict the model on test data\n",
    "model_xgb_tuned_ros.fit(X_train_ros,y_train_ros)\n",
    "y_predicted = model_xgb_tuned_ros.predict(X_test)\n"
   ]
  },
  {
   "cell_type": "code",
   "execution_count": 116,
   "metadata": {},
   "outputs": [
    {
     "name": "stdout",
     "output_type": "stream",
     "text": [
      "Classification report:\n",
      "               precision    recall  f1-score   support\n",
      "\n",
      "           0       1.00      1.00      1.00     85295\n",
      "           1       0.93      0.78      0.85       148\n",
      "\n",
      "    accuracy                           1.00     85443\n",
      "   macro avg       0.96      0.89      0.92     85443\n",
      "weighted avg       1.00      1.00      1.00     85443\n",
      "\n",
      "Confusion matrix:\n",
      " [[85286     9]\n",
      " [   33   115]]\n",
      "Logistic Regression Accuracy:  0.9995084442259752\n",
      "ROC AUC :  0.888460755438597\n"
     ]
    }
   ],
   "source": [
    "# Evaluation Metrices\n",
    "print('Classification report:\\n', classification_report(y_test, y_predicted))\n",
    "print('Confusion matrix:\\n',confusion_matrix(y_true = y_test, y_pred = y_predicted))\n",
    "print(\"Logistic Regression Accuracy: \",accuracy_score(y_test,y_predicted))\n",
    "print('ROC AUC : ', roc_auc_score(y_test, y_predicted))"
   ]
  },
  {
   "cell_type": "markdown",
   "metadata": {},
   "source": [
    "Precision : 0.91\n",
    "Recall : 0.76\n",
    "F1-score : 0.83\n",
    "Accuracy : 0.99\n",
    "ROC AUC : 0.87"
   ]
  },
  {
   "cell_type": "markdown",
   "metadata": {},
   "source": [
    "### Model 16 : XGB on SMOTE Balanced Data"
   ]
  },
  {
   "cell_type": "code",
   "execution_count": 118,
   "metadata": {},
   "outputs": [],
   "source": [
    "model_xgb_smote = XGBClassifier()"
   ]
  },
  {
   "cell_type": "code",
   "execution_count": 119,
   "metadata": {},
   "outputs": [],
   "source": [
    "#Fit the model on train data and predict the model on test data\n",
    "model_xgb_smote.fit(X_train_smote,y_train_smote)\n",
    "y_predicted = model_xgb_smote.predict(X_test)\n"
   ]
  },
  {
   "cell_type": "code",
   "execution_count": 120,
   "metadata": {},
   "outputs": [
    {
     "name": "stdout",
     "output_type": "stream",
     "text": [
      "Classification report:\n",
      "               precision    recall  f1-score   support\n",
      "\n",
      "           0       1.00      1.00      1.00     85295\n",
      "           1       0.82      0.76      0.79       148\n",
      "\n",
      "    accuracy                           1.00     85443\n",
      "   macro avg       0.91      0.88      0.89     85443\n",
      "weighted avg       1.00      1.00      1.00     85443\n",
      "\n",
      "Confusion matrix:\n",
      " [[85270    25]\n",
      " [   35   113]]\n",
      "Logistic Regression Accuracy:  0.9992977774656788\n",
      "ROC AUC :  0.8816102065486555\n"
     ]
    }
   ],
   "source": [
    "# Evaluation Metrices\n",
    "print('Classification report:\\n', classification_report(y_test, y_predicted))\n",
    "print('Confusion matrix:\\n',confusion_matrix(y_true = y_test, y_pred = y_predicted))\n",
    "print(\"Logistic Regression Accuracy: \",accuracy_score(y_test,y_predicted))\n",
    "print('ROC AUC : ', roc_auc_score(y_test, y_predicted))"
   ]
  },
  {
   "cell_type": "markdown",
   "metadata": {},
   "source": [
    "Precision : 0.82\n",
    "Recall : 0.76\n",
    "F1-score : 0.79\n",
    "Accuracy : 0.99\n",
    "ROC AUC : 0.88"
   ]
  },
  {
   "cell_type": "markdown",
   "metadata": {},
   "source": [
    "### Hyperparameter Tuning on Smote Balanced data"
   ]
  },
  {
   "cell_type": "markdown",
   "metadata": {},
   "source": [
    "### Model 17 : Hyper Tuning XGB on SMOTE Balanced Data"
   ]
  },
  {
   "cell_type": "code",
   "execution_count": 123,
   "metadata": {},
   "outputs": [],
   "source": [
    "# A parameter grid for XGBoost\n",
    "params = {\n",
    "        'min_child_weight': [1, 5, 10,15],\n",
    "        'gamma': [0.5, 1, 1.5, 2, 5,8],\n",
    "        'subsample': [0.6, 0.8, 1.0],\n",
    "        'colsample_bytree': [0.6, 0.8, 1.0,1.2],\n",
    "        'max_depth': [3, 4, 5,6,7]\n",
    "        }"
   ]
  },
  {
   "cell_type": "code",
   "execution_count": 124,
   "metadata": {},
   "outputs": [],
   "source": [
    "cross_val = StratifiedKFold(n_splits=5)\n",
    "index_iterator = cross_val.split(X_train_smote, y_train_smote)\n",
    "\n",
    "\n",
    "xgb_cross = XGBClassifier(learning_rate=0.02, n_estimators=100, objective='binary:logistic',\n",
    "                    silent=True, nthread=1) \n",
    "\n",
    "\n",
    "xgb_random = RandomizedSearchCV(estimator = xgb_cross, param_distributions = params, n_iter =40 , cv = cross_val,\n",
    "                                verbose=2, random_state=42, n_jobs = -1,scoring='roc_auc')\n"
   ]
  },
  {
   "cell_type": "code",
   "execution_count": 125,
   "metadata": {},
   "outputs": [],
   "source": [
    "#xgb_random.fit(X_train_smote, y_train_smote)\n",
    "# scores of RandomizedSearchCV\n",
    "#scores = xgb_random.cv_results_\n",
    "#pd.DataFrame(scores).head()\n",
    "#print(xgb_random.best_score_)\n",
    "#print(xgb_random.best_params_)\n",
    "#print(xgb_random.best_index_)"
   ]
  },
  {
   "cell_type": "code",
   "execution_count": 126,
   "metadata": {},
   "outputs": [],
   "source": [
    "model_xgb_tuned_smote = XGBClassifier(min_child_weight= 10,\n",
    "        gamma= 1.5,\n",
    "        subsample= 0.6,\n",
    "        colsample_bytree= 0.6,\n",
    "        max_depth= 5)"
   ]
  },
  {
   "cell_type": "code",
   "execution_count": 127,
   "metadata": {},
   "outputs": [],
   "source": [
    "#Fit the model on train data and predict the model on test data\n",
    "model_xgb_tuned_smote.fit(X_train_smote,y_train_smote)\n",
    "y_predicted = model_xgb_tuned.predict(X_test)"
   ]
  },
  {
   "cell_type": "code",
   "execution_count": 128,
   "metadata": {},
   "outputs": [
    {
     "name": "stdout",
     "output_type": "stream",
     "text": [
      "Classification report:\n",
      "               precision    recall  f1-score   support\n",
      "\n",
      "           0       1.00      1.00      1.00     85295\n",
      "           1       0.95      0.72      0.82       148\n",
      "\n",
      "    accuracy                           1.00     85443\n",
      "   macro avg       0.98      0.86      0.91     85443\n",
      "weighted avg       1.00      1.00      1.00     85443\n",
      "\n",
      "Confusion matrix:\n",
      " [[85290     5]\n",
      " [   42   106]]\n",
      "Logistic Regression Accuracy:  0.9994499256814484\n",
      "ROC AUC :  0.8580787980664878\n"
     ]
    }
   ],
   "source": [
    "#Evaluation Metrices\n",
    "print('Classification report:\\n', classification_report(y_test, y_predicted))\n",
    "print('Confusion matrix:\\n',confusion_matrix(y_true = y_test, y_pred = y_predicted))\n",
    "print(\"Logistic Regression Accuracy: \",accuracy_score(y_test,y_predicted))\n",
    "print('ROC AUC : ', roc_auc_score(y_test, y_predicted))"
   ]
  },
  {
   "cell_type": "markdown",
   "metadata": {},
   "source": [
    "Precision : 0.95\n",
    "Recall : 0.72\n",
    "F1-score : 0.82\n",
    "Accuracy : 0.99\n",
    "ROC AUC : 0.85"
   ]
  },
  {
   "cell_type": "markdown",
   "metadata": {},
   "source": [
    "### Model 18 : XGB on ADASYN Balanced Data"
   ]
  },
  {
   "cell_type": "code",
   "execution_count": 129,
   "metadata": {},
   "outputs": [],
   "source": [
    "model_xgb_adasyn = XGBClassifier()"
   ]
  },
  {
   "cell_type": "code",
   "execution_count": 130,
   "metadata": {},
   "outputs": [],
   "source": [
    "#Fit the model on train data and predict the model on test data\n",
    "model_xgb_adasyn.fit(X_train_adasyn,y_train_adasyn)\n",
    "y_predicted = model_xgb_adasyn.predict(X_test)\n"
   ]
  },
  {
   "cell_type": "code",
   "execution_count": 131,
   "metadata": {},
   "outputs": [
    {
     "name": "stdout",
     "output_type": "stream",
     "text": [
      "Classification report:\n",
      "               precision    recall  f1-score   support\n",
      "\n",
      "           0       1.00      1.00      1.00     85295\n",
      "           1       0.76      0.76      0.76       148\n",
      "\n",
      "    accuracy                           1.00     85443\n",
      "   macro avg       0.88      0.88      0.88     85443\n",
      "weighted avg       1.00      1.00      1.00     85443\n",
      "\n",
      "Confusion matrix:\n",
      " [[85259    36]\n",
      " [   36   112]]\n",
      "Logistic Regression Accuracy:  0.9991573329588147\n",
      "ROC AUC :  0.8781673460787126\n"
     ]
    }
   ],
   "source": [
    "#Evaluation Metrices\n",
    "print('Classification report:\\n', classification_report(y_test, y_predicted))\n",
    "print('Confusion matrix:\\n',confusion_matrix(y_true = y_test, y_pred = y_predicted))\n",
    "print(\"Logistic Regression Accuracy: \",accuracy_score(y_test,y_predicted))\n",
    "print('ROC AUC : ', roc_auc_score(y_test, y_predicted))\n"
   ]
  },
  {
   "cell_type": "markdown",
   "metadata": {},
   "source": [
    "Precision : 0.76\n",
    "Recall : 0.76\n",
    "F1-score : 0.76\n",
    "Accuracy : 0.99\n",
    "ROC AUC : 0.87"
   ]
  },
  {
   "cell_type": "markdown",
   "metadata": {},
   "source": [
    "### Model 19: Hyperparameter Tuning on Adasyn Balanced data"
   ]
  },
  {
   "cell_type": "code",
   "execution_count": 132,
   "metadata": {},
   "outputs": [],
   "source": [
    "# A parameter grid for XGBoost\n",
    "params = {\n",
    "        'min_child_weight': [1, 5, 10],\n",
    "        'gamma': [0.5, 1, 1.5, 2, 5],\n",
    "        'subsample': [0.6, 0.8, 1.0],\n",
    "        'colsample_bytree': [0.6, 0.8, 1.0],\n",
    "        'max_depth': [3, 4, 5]\n",
    "        }"
   ]
  },
  {
   "cell_type": "code",
   "execution_count": 133,
   "metadata": {},
   "outputs": [],
   "source": [
    "cross_val = StratifiedKFold(n_splits=5)\n",
    "index_iterator = cross_val.split(X_train_adasyn, y_train_adasyn)\n",
    "\n",
    "\n",
    "xgb_cross = XGBClassifier(learning_rate=0.02, n_estimators=100, objective='binary:logistic',\n",
    "                    silent=True, nthread=1) \n",
    "\n",
    "\n",
    "xgb_random = RandomizedSearchCV(estimator = xgb_cross, param_distributions = params, n_iter =30 , cv = cross_val,\n",
    "                                verbose=2, random_state=42, n_jobs = -1,scoring='roc_auc')\n"
   ]
  },
  {
   "cell_type": "code",
   "execution_count": 134,
   "metadata": {},
   "outputs": [],
   "source": [
    "#xgb_random.fit(X_train_adasyn, y_train_adasyn)\n",
    "# scores of RandomizedSearchCV\n",
    "#scores = xgb_random.cv_results_\n",
    "#pd.DataFrame(scores).head()\n",
    "#print(xgb_random.best_score_)\n",
    "#print(xgb_random.best_params_)\n",
    "#print(xgb_random.best_index_)"
   ]
  },
  {
   "cell_type": "code",
   "execution_count": 135,
   "metadata": {},
   "outputs": [],
   "source": [
    "model_xgb_tuned_adasyn = XGBClassifier(min_child_weight= 10,\n",
    "        gamma= 1.5,\n",
    "        subsample= 0.6,\n",
    "        colsample_bytree= 0.6,\n",
    "        max_depth= 5)\n"
   ]
  },
  {
   "cell_type": "code",
   "execution_count": 136,
   "metadata": {},
   "outputs": [],
   "source": [
    "#Fit the model on train data and predict the model on test data\n",
    "model_xgb_tuned_adasyn.fit(X_train_adasyn,y_train_adasyn)\n",
    "y_predicted = model_xgb_tuned_adasyn.predict(X_test)"
   ]
  },
  {
   "cell_type": "code",
   "execution_count": 137,
   "metadata": {},
   "outputs": [
    {
     "name": "stdout",
     "output_type": "stream",
     "text": [
      "Classification report:\n",
      "               precision    recall  f1-score   support\n",
      "\n",
      "           0       1.00      1.00      1.00     85295\n",
      "           1       0.54      0.77      0.64       148\n",
      "\n",
      "    accuracy                           1.00     85443\n",
      "   macro avg       0.77      0.88      0.82     85443\n",
      "weighted avg       1.00      1.00      1.00     85443\n",
      "\n",
      "Confusion matrix:\n",
      " [[85198    97]\n",
      " [   34   114]]\n",
      "Logistic Regression Accuracy:  0.9984668141333989\n",
      "ROC AUC :  0.884566520327702\n"
     ]
    }
   ],
   "source": [
    "#Evaluation Metrices\n",
    "print('Classification report:\\n', classification_report(y_test, y_predicted))\n",
    "print('Confusion matrix:\\n',confusion_matrix(y_true = y_test, y_pred = y_predicted))\n",
    "print(\"Logistic Regression Accuracy: \",accuracy_score(y_test,y_predicted))\n",
    "print('ROC AUC : ', roc_auc_score(y_test, y_predicted))\n"
   ]
  },
  {
   "cell_type": "markdown",
   "metadata": {},
   "source": [
    "Precision : 0.54\n",
    "Recall : 0.77\n",
    "F1-score : 0.64\n",
    "Accuracy : 0.99\n",
    "ROC AUC : 0.88"
   ]
  },
  {
   "cell_type": "markdown",
   "metadata": {},
   "source": [
    "### Final Analysis"
   ]
  },
  {
   "cell_type": "markdown",
   "metadata": {},
   "source": [
    "#### Best Model considering various parameters and scenarios"
   ]
  },
  {
   "cell_type": "markdown",
   "metadata": {},
   "source": [
    "In nutshell rather than aiming for overall accuracy on the entire dataset, we cared more about detecting most of the fraud cases (recall), whilst keeping the cost at which this is achieved under control (precision).We have applied XGBoost on Smote data and got the best evaluation metrices."
   ]
  },
  {
   "cell_type": "code",
   "execution_count": 140,
   "metadata": {},
   "outputs": [],
   "source": [
    "#Predicting on the test data using the best model\n",
    "y_predicted = model_xgb_smote.predict(X_test)"
   ]
  },
  {
   "cell_type": "code",
   "execution_count": 141,
   "metadata": {},
   "outputs": [],
   "source": [
    "# Create true and false positive rates\n",
    "fpr, tpr, thresholds = roc_curve(y_test, y_predicted)\n",
    "roc_auc = roc_auc_score(y_test, y_predicted)"
   ]
  },
  {
   "cell_type": "code",
   "execution_count": 142,
   "metadata": {},
   "outputs": [
    {
     "name": "stdout",
     "output_type": "stream",
     "text": [
      "Classification report for XGBoost Smote:\n",
      "               precision    recall  f1-score   support\n",
      "\n",
      "           0       1.00      1.00      1.00     85295\n",
      "           1       0.82      0.76      0.79       148\n",
      "\n",
      "    accuracy                           1.00     85443\n",
      "   macro avg       0.91      0.88      0.89     85443\n",
      "weighted avg       1.00      1.00      1.00     85443\n",
      "\n",
      "Logistic Regression Accuracy:  0.9992977774656788\n",
      "ROC AUC :  0.8816102065486555\n",
      "Confusion matrix:\n",
      " [[85270    25]\n",
      " [   35   113]]\n",
      "Threshold: 1\n"
     ]
    }
   ],
   "source": [
    "# Printing Evaluation Metrices\n",
    "print('Classification report for XGBoost Smote:\\n', classification_report(y_test, y_predicted))\n",
    "print(\"Logistic Regression Accuracy: \",accuracy_score(y_test,y_predicted))\n",
    "print('ROC AUC : ', roc_auc_score(y_test, y_predicted))\n",
    "print('Confusion matrix:\\n',confusion_matrix(y_true = y_test, y_pred = y_predicted))\n",
    "threshold = thresholds[np.argmax(tpr-fpr)]\n",
    "print(\"Threshold:\",threshold)"
   ]
  },
  {
   "cell_type": "code",
   "execution_count": 143,
   "metadata": {},
   "outputs": [
    {
     "data": {
      "image/png": "[encoded data removed]",
      "text/plain": [
       "<Figure size 432x432 with 1 Axes>"
      ]
     },
     "metadata": {
      "needs_background": "light"
     },
     "output_type": "display_data"
    }
   ],
   "source": [
    "# Plotting the roc curve \n",
    "plt.rcParams['figure.figsize'] = [6,6]\n",
    "plot_roc_curve(fpr,tpr,roc_auc)"
   ]
  },
  {
   "cell_type": "markdown",
   "metadata": {},
   "source": [
    "Inference:"
   ]
  },
  {
   "cell_type": "markdown",
   "metadata": {},
   "source": [
    "Precision : 0.82\n",
    "Recall : 0.76\n",
    "F1-score : 0.79\n",
    "Accuracy : 0.99\n",
    "ROC AUC : 0.88"
   ]
  },
  {
   "cell_type": "markdown",
   "metadata": {},
   "source": [
    "#### Important Features"
   ]
  },
  {
   "cell_type": "code",
   "execution_count": 146,
   "metadata": {},
   "outputs": [],
   "source": [
    "target = 'Class'\n",
    "pca_comp = ['V1', 'V2', 'V3', 'V4', 'V5', 'V6', 'V7', 'V8', 'V9', 'V10',\\\n",
    "       'V11', 'V12', 'V13', 'V14', 'V15', 'V16', 'V17', 'V18', 'V19',\\\n",
    "       'V20', 'V21', 'V22', 'V23', 'V24', 'V25', 'V26', 'V27', 'V28',\\\n",
    "       'Amount', 'Time']"
   ]
  },
  {
   "cell_type": "code",
   "execution_count": 147,
   "metadata": {},
   "outputs": [
    {
     "data": {
      "image/png": "[encoded data removed]",
      "text/plain": [
       "<Figure size 504x288 with 1 Axes>"
      ]
     },
     "metadata": {
      "needs_background": "light"
     },
     "output_type": "display_data"
    }
   ],
   "source": [
    "tmp = pd.DataFrame({'Feature': pca_comp, 'Feature importance': model_xgb_smote.feature_importances_})\n",
    "tmp = tmp.sort_values(by='Feature importance',ascending=False)\n",
    "plt.figure(figsize = (7,4))\n",
    "plt.title('Features importance',fontsize=14)\n",
    "s = sns.barplot(x='Feature',y='Feature importance',data=tmp)\n",
    "s.set_xticklabels(s.get_xticklabels(),rotation=90)\n",
    "plt.show()  "
   ]
  },
  {
   "cell_type": "markdown",
   "metadata": {},
   "source": [
    "#### Inference:"
   ]
  },
  {
   "cell_type": "markdown",
   "metadata": {},
   "source": [
    "We found out that PCA converted variables like V15, V5 are able to explain the maximum variance and hence we can target these variables to detect a fraud."
   ]
  },
  {
   "cell_type": "markdown",
   "metadata": {},
   "source": [
    "#### Closing Statement"
   ]
  },
  {
   "cell_type": "markdown",
   "metadata": {},
   "source": [
    "Here,we  have build a logistic regression model based on the transaction data provided to us.\n",
    "The data provided to us was very imbalanced data set. Hence, for building a proper logistic model on top of that we have used some balancing techniques like (ROS,SMOTE etc) to balance the data and applied some of very popular logistic regression models like Random Forest, Logistic regression and some boosting techniques like XGBoost to catch any frud transactions.\n",
    "In our scenario Accuracy was not a concerning Evaluation criteria and we focussed more on Recall and AUC.\n",
    "We finally able to build a proper logistic model and predicted on test data and the results were satisfying.\n",
    "We were also able to figure out the variables which will be important in detecting any fraud transactions."
   ]
  },
  {
   "cell_type": "code",
   "execution_count": null,
   "metadata": {},
   "outputs": [],
   "source": []
  }
 ],
 "metadata": {
  "kernelspec": {
   "display_name": "Python 3",
   "language": "python",
   "name": "python3"
  },
  "language_info": {
   "codemirror_mode": {
    "name": "ipython",
    "version": 3
   },
   "file_extension": ".py",
   "mimetype": "text/x-python",
   "name": "python",
   "nbconvert_exporter": "python",
   "pygments_lexer": "ipython3",
   "version": "3.7.4"
  }
 },
 "nbformat": 4,
 "nbformat_minor": 2
}
